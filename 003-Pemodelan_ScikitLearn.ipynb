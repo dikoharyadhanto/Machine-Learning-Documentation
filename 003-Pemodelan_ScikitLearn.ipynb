{
  "nbformat": 4,
  "nbformat_minor": 0,
  "metadata": {
    "colab": {
      "name": "003-Pemodelan_ScikitLearn.ipynb",
      "provenance": [],
      "collapsed_sections": [],
      "authorship_tag": "ABX9TyN8u3fPsaRBL95c6BT1aXdA",
      "include_colab_link": true
    },
    "kernelspec": {
      "name": "python3",
      "display_name": "Python 3"
    },
    "language_info": {
      "name": "python"
    }
  },
  "cells": [
    {
      "cell_type": "markdown",
      "metadata": {
        "id": "view-in-github",
        "colab_type": "text"
      },
      "source": [
        "<a href=\"https://colab.research.google.com/github/dikoharyadhanto/Machine-Learning-Documentation/blob/main/003-Pemodelan_ScikitLearn.ipynb\" target=\"_parent\"><img src=\"https://colab.research.google.com/assets/colab-badge.svg\" alt=\"Open In Colab\"/></a>"
      ]
    },
    {
      "cell_type": "markdown",
      "metadata": {
        "id": "bzyzJE1yDPe5"
      },
      "source": [
        "Scikit-learn adalah library untuk machine learning dalam melakukan prediksi atau mempelajari pola permasalahan dan berbagai fitur lainnya. diantaranya regresi (**regression**), klasifikasi (**classification**), pengelompokkan/penggugusan (**clustering**), **data preprocessing**, **dimensionality reduction**, dan **model selection** (pembandingan, validasi, dan pemilihan parameter maupun model)."
      ]
    },
    {
      "cell_type": "markdown",
      "metadata": {
        "id": "8PrqoGUFFiYP"
      },
      "source": [
        "# **Persiapan Dataset**"
      ]
    },
    {
      "cell_type": "code",
      "metadata": {
        "colab": {
          "base_uri": "https://localhost:8080/",
          "height": 224
        },
        "id": "lu3Ivep6FmBV",
        "outputId": "eeef1512-e6f8-4745-d12a-e8cfc61b5ca7"
      },
      "source": [
        "## EXPLORING DATA\n",
        "\n",
        "import pandas as pd\n",
        "dataset = pd.read_csv('https://storage.googleapis.com/dqlab-dataset/pythonTutorial/online_raw.csv')\n",
        "dataset.head()"
      ],
      "execution_count": 2,
      "outputs": [
        {
          "output_type": "execute_result",
          "data": {
            "text/html": [
              "<div>\n",
              "<style scoped>\n",
              "    .dataframe tbody tr th:only-of-type {\n",
              "        vertical-align: middle;\n",
              "    }\n",
              "\n",
              "    .dataframe tbody tr th {\n",
              "        vertical-align: top;\n",
              "    }\n",
              "\n",
              "    .dataframe thead th {\n",
              "        text-align: right;\n",
              "    }\n",
              "</style>\n",
              "<table border=\"1\" class=\"dataframe\">\n",
              "  <thead>\n",
              "    <tr style=\"text-align: right;\">\n",
              "      <th></th>\n",
              "      <th>Administrative</th>\n",
              "      <th>Administrative_Duration</th>\n",
              "      <th>Informational</th>\n",
              "      <th>Informational_Duration</th>\n",
              "      <th>ProductRelated</th>\n",
              "      <th>ProductRelated_Duration</th>\n",
              "      <th>BounceRates</th>\n",
              "      <th>ExitRates</th>\n",
              "      <th>PageValues</th>\n",
              "      <th>SpecialDay</th>\n",
              "      <th>Month</th>\n",
              "      <th>OperatingSystems</th>\n",
              "      <th>Browser</th>\n",
              "      <th>Region</th>\n",
              "      <th>TrafficType</th>\n",
              "      <th>VisitorType</th>\n",
              "      <th>Weekend</th>\n",
              "      <th>Revenue</th>\n",
              "    </tr>\n",
              "  </thead>\n",
              "  <tbody>\n",
              "    <tr>\n",
              "      <th>0</th>\n",
              "      <td>0.0</td>\n",
              "      <td>0.0</td>\n",
              "      <td>0.0</td>\n",
              "      <td>0.0</td>\n",
              "      <td>1.0</td>\n",
              "      <td>0.000000</td>\n",
              "      <td>0.20</td>\n",
              "      <td>0.20</td>\n",
              "      <td>0.0</td>\n",
              "      <td>0.0</td>\n",
              "      <td>Feb</td>\n",
              "      <td>1</td>\n",
              "      <td>1</td>\n",
              "      <td>1</td>\n",
              "      <td>1</td>\n",
              "      <td>Returning_Visitor</td>\n",
              "      <td>False</td>\n",
              "      <td>False</td>\n",
              "    </tr>\n",
              "    <tr>\n",
              "      <th>1</th>\n",
              "      <td>0.0</td>\n",
              "      <td>0.0</td>\n",
              "      <td>0.0</td>\n",
              "      <td>0.0</td>\n",
              "      <td>2.0</td>\n",
              "      <td>64.000000</td>\n",
              "      <td>0.00</td>\n",
              "      <td>0.10</td>\n",
              "      <td>0.0</td>\n",
              "      <td>0.0</td>\n",
              "      <td>Feb</td>\n",
              "      <td>2</td>\n",
              "      <td>2</td>\n",
              "      <td>1</td>\n",
              "      <td>2</td>\n",
              "      <td>Returning_Visitor</td>\n",
              "      <td>False</td>\n",
              "      <td>False</td>\n",
              "    </tr>\n",
              "    <tr>\n",
              "      <th>2</th>\n",
              "      <td>0.0</td>\n",
              "      <td>-1.0</td>\n",
              "      <td>0.0</td>\n",
              "      <td>-1.0</td>\n",
              "      <td>1.0</td>\n",
              "      <td>-1.000000</td>\n",
              "      <td>0.20</td>\n",
              "      <td>0.20</td>\n",
              "      <td>0.0</td>\n",
              "      <td>0.0</td>\n",
              "      <td>Feb</td>\n",
              "      <td>4</td>\n",
              "      <td>1</td>\n",
              "      <td>9</td>\n",
              "      <td>3</td>\n",
              "      <td>Returning_Visitor</td>\n",
              "      <td>False</td>\n",
              "      <td>False</td>\n",
              "    </tr>\n",
              "    <tr>\n",
              "      <th>3</th>\n",
              "      <td>0.0</td>\n",
              "      <td>0.0</td>\n",
              "      <td>0.0</td>\n",
              "      <td>0.0</td>\n",
              "      <td>2.0</td>\n",
              "      <td>2.666667</td>\n",
              "      <td>0.05</td>\n",
              "      <td>0.14</td>\n",
              "      <td>0.0</td>\n",
              "      <td>0.0</td>\n",
              "      <td>Feb</td>\n",
              "      <td>3</td>\n",
              "      <td>2</td>\n",
              "      <td>2</td>\n",
              "      <td>4</td>\n",
              "      <td>Returning_Visitor</td>\n",
              "      <td>False</td>\n",
              "      <td>False</td>\n",
              "    </tr>\n",
              "    <tr>\n",
              "      <th>4</th>\n",
              "      <td>0.0</td>\n",
              "      <td>0.0</td>\n",
              "      <td>0.0</td>\n",
              "      <td>0.0</td>\n",
              "      <td>10.0</td>\n",
              "      <td>627.500000</td>\n",
              "      <td>0.02</td>\n",
              "      <td>0.05</td>\n",
              "      <td>0.0</td>\n",
              "      <td>0.0</td>\n",
              "      <td>Feb</td>\n",
              "      <td>3</td>\n",
              "      <td>3</td>\n",
              "      <td>1</td>\n",
              "      <td>4</td>\n",
              "      <td>Returning_Visitor</td>\n",
              "      <td>True</td>\n",
              "      <td>False</td>\n",
              "    </tr>\n",
              "  </tbody>\n",
              "</table>\n",
              "</div>"
            ],
            "text/plain": [
              "   Administrative  Administrative_Duration  ...  Weekend  Revenue\n",
              "0             0.0                      0.0  ...    False    False\n",
              "1             0.0                      0.0  ...    False    False\n",
              "2             0.0                     -1.0  ...    False    False\n",
              "3             0.0                      0.0  ...    False    False\n",
              "4             0.0                      0.0  ...     True    False\n",
              "\n",
              "[5 rows x 18 columns]"
            ]
          },
          "metadata": {},
          "execution_count": 2
        }
      ]
    },
    {
      "cell_type": "code",
      "metadata": {
        "colab": {
          "base_uri": "https://localhost:8080/"
        },
        "id": "xaN_4XnTFo5u",
        "outputId": "50f4f210-e987-4abc-ccc1-c39d98cc2b3f"
      },
      "source": [
        "#Drop rows with missing value   \n",
        "dataset_clean = dataset.dropna() \n",
        "print('Ukuran dataset_clean:', dataset_clean.shape) "
      ],
      "execution_count": 3,
      "outputs": [
        {
          "output_type": "stream",
          "name": "stdout",
          "text": [
            "Ukuran dataset_clean: (12316, 18)\n"
          ]
        }
      ]
    },
    {
      "cell_type": "code",
      "metadata": {
        "colab": {
          "base_uri": "https://localhost:8080/"
        },
        "id": "C72Qu6WFF081",
        "outputId": "991a5a5f-9181-4283-d172-44251833126e"
      },
      "source": [
        "# Fill missing value with mean of feature value  \n",
        "dataset.fillna(dataset.mean(), inplace = True)\n",
        "# Checking missing value for each feature  \n",
        "print(dataset.isnull().sum())\n",
        "# Counting total missing value  \n",
        "print(dataset.isnull().sum().sum())"
      ],
      "execution_count": 4,
      "outputs": [
        {
          "output_type": "stream",
          "name": "stdout",
          "text": [
            "Administrative             0\n",
            "Administrative_Duration    0\n",
            "Informational              0\n",
            "Informational_Duration     0\n",
            "ProductRelated             0\n",
            "ProductRelated_Duration    0\n",
            "BounceRates                0\n",
            "ExitRates                  0\n",
            "PageValues                 0\n",
            "SpecialDay                 0\n",
            "Month                      0\n",
            "OperatingSystems           0\n",
            "Browser                    0\n",
            "Region                     0\n",
            "TrafficType                0\n",
            "VisitorType                0\n",
            "Weekend                    0\n",
            "Revenue                    0\n",
            "dtype: int64\n",
            "0\n"
          ]
        }
      ]
    },
    {
      "cell_type": "code",
      "metadata": {
        "id": "wR9FbeeSGKJg"
      },
      "source": [
        "from sklearn.preprocessing import MinMaxScaler  \n",
        "#Define MinMaxScaler as scaler  \n",
        "scaler = MinMaxScaler()  \n",
        "#list all the feature that need to be scaled  \n",
        "scaling_column = [\n",
        "                  'Administrative','Administrative_Duration','Informational',\n",
        "                  'Informational_Duration','ProductRelated','ProductRelated_Duration',\n",
        "                  'BounceRates','ExitRates','PageValues'\n",
        "                 ]\n",
        "#Apply fit_transfrom to scale selected feature  \n",
        "dataset[scaling_column] = scaler.fit_transform(dataset[scaling_column])"
      ],
      "execution_count": 5,
      "outputs": []
    },
    {
      "cell_type": "code",
      "metadata": {
        "colab": {
          "base_uri": "https://localhost:8080/"
        },
        "id": "kGb7IqCOGK6n",
        "outputId": "452f80dc-f201-4182-e12e-f0b4d1bfa815"
      },
      "source": [
        "import numpy as np\n",
        "from sklearn.preprocessing import LabelEncoder\n",
        "# Convert feature/column 'Month'\n",
        "LE = LabelEncoder()\n",
        "dataset['Month'] = LE.fit_transform(dataset['Month'])\n",
        "print(LE.classes_)\n",
        "print(np.sort(dataset['Month'].unique()))\n",
        "print('')\n",
        "\n",
        "# Convert feature/column 'VisitorType'\n",
        "LE = LabelEncoder()\n",
        "dataset['VisitorType'] = LE.fit_transform(dataset['VisitorType'])\n",
        "print(LE.classes_)\n",
        "print(np.sort(dataset['VisitorType'].unique()))"
      ],
      "execution_count": 6,
      "outputs": [
        {
          "output_type": "stream",
          "name": "stdout",
          "text": [
            "['Aug' 'Dec' 'Feb' 'Jul' 'June' 'Mar' 'May' 'Nov' 'Oct' 'Sep']\n",
            "[0 1 2 3 4 5 6 7 8 9]\n",
            "\n",
            "['New_Visitor' 'Other' 'Returning_Visitor']\n",
            "[0 1 2]\n"
          ]
        }
      ]
    },
    {
      "cell_type": "markdown",
      "metadata": {
        "id": "tkClnJBRB9RU"
      },
      "source": [
        "# **Features & Label**"
      ]
    },
    {
      "cell_type": "markdown",
      "metadata": {
        "id": "XDBWicXODmb8"
      },
      "source": [
        "Dalam dataset user online purchase, label target sudah diketahui, yaitu kolom Revenue yang bernilai 1 untuk user yang membeli dan 0 untuk yang tidak membeli, sehingga pemodelan yang dilakukan ini adalah klasifikasi.\n",
        "\n",
        "Untuk melatih dataset menggunakan Scikit-Learn library, dataset perlu dipisahkan ke dalam Features dan Label/Target.\n",
        "\n",
        "Variabel Feature akan terdiri dari variabel yang dideklarasikan sebagai X\n",
        "`[Revenue]` adalah variabel Target yang dideklarasikan sebagai y.\n",
        "\n",
        "Gunakan fungsi `drop()` untuk menghapus kolom `[Revenue]` dari dataset."
      ]
    },
    {
      "cell_type": "code",
      "metadata": {
        "colab": {
          "base_uri": "https://localhost:8080/"
        },
        "id": "sHduglutCBwS",
        "outputId": "e766d2c3-19f4-4b4e-86b1-c335aa0585e9"
      },
      "source": [
        "# removing the target column Revenue from dataset and assigning to X\n",
        "X = dataset.drop(['Revenue'], axis = 1)\n",
        "# assigning the target column Revenue to y\n",
        "y = dataset['Revenue']\n",
        "# checking the shapes\n",
        "print(\"Shape of X:\", X.shape)\n",
        "print(\"Shape of y:\", y.shape)"
      ],
      "execution_count": 7,
      "outputs": [
        {
          "output_type": "stream",
          "name": "stdout",
          "text": [
            "Shape of X: (12330, 17)\n",
            "Shape of y: (12330,)\n"
          ]
        }
      ]
    },
    {
      "cell_type": "markdown",
      "metadata": {
        "id": "9pzWPqwvEKs5"
      },
      "source": [
        "# **Training & Test Dataset**"
      ]
    },
    {
      "cell_type": "markdown",
      "metadata": {
        "id": "7ihrLGXoDxvV"
      },
      "source": [
        "Sebelum kita melatih model dengan suatu algorithm machine, dataset perlu kita bagi ke dalam training dataset dan test dataset dengan perbandingan 80:20. 80% digunakan untuk training dan 20% untuk proses testing.\n",
        "\n",
        "Scikit-learn tidak dapat memproses dataframe dan hanya mengakomodasi format data tipe Array. Fungsi `train_test_split()` dari Scikit-Learn, otomatis mengubah dataset dari dataframe ke dalam format array.\n",
        "\n",
        "Fungsi Training adalah melatih model untuk mengenali pola dalam data, sedangkan testing berfungsi untuk memastikan bahwa model yang telah dilatih tersebut mampu dengan baik memprediksi label dari new observation dan belum dipelajari oleh model sebelumnya."
      ]
    },
    {
      "cell_type": "code",
      "metadata": {
        "colab": {
          "base_uri": "https://localhost:8080/"
        },
        "id": "UENTUHeREP0d",
        "outputId": "3fc5efb7-37c6-4cd2-c9a4-ba00645b2e3b"
      },
      "source": [
        "from sklearn.model_selection import train_test_split\n",
        "# splitting the X, and y\n",
        "X_train, X_test, y_train, y_test = train_test_split(X, y, test_size = 0.2, random_state = 0)\n",
        "# checking the shapes\n",
        "print(\"Shape of X_train :\", X_train.shape)\n",
        "print(\"Shape of y_train :\", y_train.shape)\n",
        "print(\"Shape of X_test :\", X_test.shape)\n",
        "print(\"Shape of y_test :\", y_test.shape)"
      ],
      "execution_count": 8,
      "outputs": [
        {
          "output_type": "stream",
          "name": "stdout",
          "text": [
            "Shape of X_train : (9864, 17)\n",
            "Shape of y_train : (9864,)\n",
            "Shape of X_test : (2466, 17)\n",
            "Shape of y_test : (2466,)\n"
          ]
        }
      ]
    },
    {
      "cell_type": "markdown",
      "metadata": {
        "id": "WaHfccVuEBJg"
      },
      "source": [
        "# **Training Model: Fit**"
      ]
    },
    {
      "cell_type": "markdown",
      "metadata": {
        "id": "8zwen6XUEILH"
      },
      "source": [
        "Dengan Scikit-Learn, proses pelatihan model atau training menjadi sangat sederhana. Kita cukup memanggil nama algorithm yang akan kita gunakan, biasanya disebut classifier untuk problem klasifikasi, dan regressor untuk problem regresi.\n",
        "\n",
        "Contohnya, kita akan menggunakan Decision Tree. Kita hanya perlu memanggil fungsi `DecisionTreeClassifier()` yang kita namakan “`model`”. Kemudian menggunakan fungsi `.fit()` dan `X_train`, `y_train` untuk melatih classifier tersebut dengan training dataset.\n"
      ]
    },
    {
      "cell_type": "code",
      "metadata": {
        "id": "vP4wsfn5GxOA"
      },
      "source": [
        "from sklearn.tree import DecisionTreeClassifier\n",
        "# Call the classifier\n",
        "model = DecisionTreeClassifier()\n",
        "# Fit the classifier to the training data\n",
        "model = model.fit(X_train, y_train)"
      ],
      "execution_count": 9,
      "outputs": []
    },
    {
      "cell_type": "markdown",
      "metadata": {
        "id": "SumcOTSUEVvD"
      },
      "source": [
        "# **Training Model: Predict**"
      ]
    },
    {
      "cell_type": "markdown",
      "metadata": {
        "id": "x1QpZ4nOEZn3"
      },
      "source": [
        "Setelah model/classifier terbentuk, selanjutnya kita menggunakan model ini untuk memprediksi LABEL dari testing dataset (X_test), menggunakan fungsi .`predict()`. Fungsi ini akan mengembalikan hasil prediksi untuk setiap data point dari X_test dalam bentuk array. Proses ini kita kenal dengan TESTING."
      ]
    },
    {
      "cell_type": "code",
      "metadata": {
        "colab": {
          "base_uri": "https://localhost:8080/"
        },
        "id": "VVSUmDK_Hjh5",
        "outputId": "202afe79-32de-43de-9477-7a2bebb27f3a"
      },
      "source": [
        "# Apply the classifier/model to the test data\n",
        "y_pred = model.predict(X_test)\n",
        "print(y_pred.shape)"
      ],
      "execution_count": 10,
      "outputs": [
        {
          "output_type": "stream",
          "name": "stdout",
          "text": [
            "(2466,)\n"
          ]
        }
      ]
    },
    {
      "cell_type": "markdown",
      "metadata": {
        "id": "smyBaYfjRM2b"
      },
      "source": [
        "# **Evaluasi Model Performance**"
      ]
    },
    {
      "cell_type": "markdown",
      "metadata": {
        "id": "PVNQh99fEi4q"
      },
      "source": [
        "Tahap terakhir dari modelling yaitu evaluasi hasil model. Untuk evaluasi model performance, setiap algorithm mempunyai metrik yang berbeda-beda. Metrik paling sederhana untuk mengecek performansi model adalah accuracy.\n",
        "\n",
        "Kita bisa munculkan dengan fungsi `.score( )`. Tetapi, di banyak real problem, accuracy saja tidaklah cukup. Metode lain yang digunakan adalah dengan Confusion Matrix. Confusion Matrix merepresentasikan perbandingan prediksi dan real LABEL dari test dataset yang dihasilkan oleh algoritma ML."
      ]
    },
    {
      "cell_type": "markdown",
      "metadata": {
        "id": "xaygA4WzEriw"
      },
      "source": [
        "![image.png](data:image/png;base64,iVBORw0KGgoAAAANSUhEUgAAAe4AAAFOCAYAAABAC/64AAAgAElEQVR4AeydB1gU5xaGk5ibZhITC5abm97UqEks2DsgKjFqrFhiw97F2HsLdsUCtlhir9h7QcTeUAQVrKD03st7n1naggsLcTG7y+F5xp2dOfPP+d8zx29n5sw/ryF/QkAICAEhIASEgMEQeM1gPBVHhYAQEAJCQAgIAUS45SAQAkJACAgBIWBABES4DShY4qoQEAJCQAgIARFuOQaEgBAQAkJACBgQARFuAwqWuCoEhIAQEAJCQIRbjgEhIASEgBAQAgZEQITbgIIlrgoBISAEhIAQEOGWY0AICAEhIASEgAEREOE2oGCJq0JACAgBISAERLjlGBACQkAICAEhYEAERLgNKFjiqhAQAkJACAgBEW45BoSAEBACQkAIGBABEW4DCpa4KgSEgBAQAkJAhFuOASEgBISAEBACBkRAhNuAgiWuCgEhIASEgBAQ4ZZjQAgIASEgBISAAREQ4TagYImrQkAICAEhIAREuOUYEAJCQAgIASFgQAREuA0oWOKqEBACQkAICAERbjkGhIAQEAJCQAgYEAERbgMKlrgqBIyXQARPrx1m/18OzN96jSdR8cT/a53VJ1/+NQiyYz0mIMKtx8ER14SANgJhj65w49xBDp5y5aRHELEJSdo20dP1vriuHEjPGuUxsXLEJSCSSA2exvp54H7JFeeLHjyJhsRkDUbKolg/nrhfwtX5IleeRBOXraGm7XPni6YtZZkQeBUERLhfBWXZhxDQOQFFseI5P68ZHX96g0KfVaf0oEM8DInhpaQ7IYao8DCCQyOJSYTsdFHn3SF3Yvl8/2iGNq3JD/WHYu+ZSESCZk+SHm9neX9zqlcwp/VfjwiMTNRsqHFp7nzRuKksFAKvgIAI9yuALLsQAronEAu4sKJNDVp+VpqvvjOj2DcT2OYbSuDL7OzmWuYP7oVZh+lsegJRedG7l9lvLoU78cEWlvY1x7RiE9quf0JgNg76HRzH8Oa1qFBvEAvdE4jI03V3Ee6XCqVsnO8ERLjzHbHsQAjkA4H4cLg5l55129Hut04MtrXmxxKm/HH4OZ6hL7G/y/ZMsm5B+Ya2OD6AyGzOaF9iD9lsmkuxjLnN4bndaFv1Z7632c2N4GiUnzAZf8r1Bj/OzGrFb3UbUavnKi5EQVyeLh3k0peMncqcEHilBES4Xylu2ZkQ0AWBeOLD73FtVhPqWAxjwLy/2L9jPJ2/M6HmtHOc8Y7SvJPge9w9s4np06dnTKv3sPXyY+KjnnBt6wIch1vR6MdylPyyDi1tpzNp2nSmbzrDmXvBRPndxW2PHfPs9nDmrh/B6XtR1P0hl7f+xbbNRzh+NyJ9jTITfO8MZzap7XP6dBa/YJdbsQzHc/c0xluV4+OfOrP4QhBP1LubFAuhJ7DvZEqD+h3puPCiys+02wcv40vKtvbMW3Qct4hYMnYbRWyEG8cXzWPT/qtcfxqdqf88u8yZPaszmCv8U5lmNozg6fUj7F+uzmoTe87c41lmQ/lWwAmIcBfwA0C6b4AEEoMJe+jE9LrFqd5jLvNOePD00t8s/vV/fNx0BqtOPyAk66XhsEfcPzifP/tb8kVVCxqaWWBhYUGdtr3oMW8tN7xv4zSuHTZmZfmqtAnvF/2c8nUtaGxugcWY9aw/74PfDSc2dHqPou91YqLTDe6mo1POeY9jb2VKC4uB2O7xTV8T9ugqJ9ePZVyv+qr9Kfu0qFGW6lad6Tz/KJ5BkFJPl1vhhvA7O9gypj5ffFQKswVunH8cl76/5Lgwoi9Px6Z2Jeq0GsP0k0Hp617Wl7tOk5ho8RlFy4xkg08Ifukt+xHis4GRZYpi0dOBla6p+0xKgCBPrq4fTj/rJpStYYGFeWMs6pbnc/M+DFhyDE8/hZ1yOSAaP89DbJjZhy7mNdRYdabXtM1seRSWvjeZEQIi3HIMCAEDI5Acfo/nJ8diaVIC66n7OeAFUQ9cOD+jHv8tUo1uS05x1l/92nAicS7zGNuxGl/WbcckZwhLvb7sdehPNs6yzliWw6XyfyLc11daM2X6aCYefJ5B+fpypnapxpdVmzHoUDwhMYqvuRdu8MJt/1S6fVyUwm1Ws/PaM1JuxSeTEPEcT3tL6v9Qm6ZD17Bffbcv6UvehDuZ5JhAYvYPommNb6nRfSYrrwOJUfBoHeOb/UQdi/4M2fKAeBJI5j47hzagSYtO/Lr0qhqrlfy5bBnWqo0zFstcwSYgwl2w4y+9N0AC0Q9dufinOf8r0o4x269wOx6Sw+7ie2wU5iWKU7f/atZeDkntmSJpTzgysTm/tGyLxaxjBMdAUqqux0eFEBHil7FMx8IdF+5HcHAQwepFZHEubB/bloZf1uCbiefwDVXOmPMi3PH4XtnOipaF+bhEL2YcuMUDVW+jiQq8yPp2/6OiaVf6Lj3DA7Xiupf1JW/CneLLJusvqfTbcEZuvka46sJAMiSE47G+P70tWlO3w2rOEUscZ1jeqjq/NOnPkB1PMo7KuHBCwsLwS9k4Y7nMFWgCItwFOvzSecMjEIHP5U0s+/VTPi4/koUnPFPufyb4EHxvOX1Kf8x3tWwZv9Ut5R50UjT47WFWq5+p27QPfTZ55dxlHQu35p15cWpxH6xrmlJm5HF8QpTT/7wIN8Q+cuX6nAaU/OgbOiw4xknl6nysD8E3lmHz/cdUaTuLuYcfEaPZAbWlufclT8Kt5kvT4etYdzXzff8YZzvGtGlBJbOJbPSLJyrpFpv61KVpua/5qe0fzDzqR1hM2p15NXdlVggAItxyGAgBQyIQfY8buybR9ZuifGW9lh3Xn5NSChVBhL8zy81MKPd1EzrN2MsVRSsSIuGBI7YNy9O45UimngjPubc6F+4IfK4f4YDDDGbMSJtG07dVTapW+efCTcR9/J0nYGbyIVV6OeJ4Pph4vxt4buhG5WLV6PjnPo48ylIkxsv5kifhjvQiwGUSViZFMG3UhS7D0/qe+jngFxr9aJpavZ9EZEIw7gdWMLdHbcyqf0XZlraMmzSdGTM2s8dZitNyPmgL3loR7oIXc+mxAROIf3KUQ7N/o2zhjyjbeT7z1u7h8OHDqmnfzo3YtSnG9yb/o3aP+fx1JzaTcFu2Hcvss6k3t7NjoDPhTim48vc8zIbJPbCu8yN1zM0xMzfH3Lwe1cp/yn/LvYRwE0L48/38WbkE39Qewsi/L/HQ/RBOg36m+DfDmXvUg6fpfdSNL/9UuL/56id+qq30O+vUkV4jHTnwDNVgN4q7T13XsW6MOeZmjTCvU47Pi9anaecFrL/6GKXkTc7B04NaoGdEuAt0+KXzhkUgCf+zDizp9j1vvFWYIh8XpWixYhTLNH3MB+/+h8/N+zN0+2OSEiPh0Sr+aPQDNcwHMGxXhpxp7HsOwu1/cx8bu3xIscJZq8qVm+ZHWdS8Gr+kV5UnQNJdtg+tj3nNppiP3s8jpTZLtdPUy+IWLyPcEBvqy5mxX1D988a0H+vIhmNLGFezGCVsNrPfLUCte7rx5f6+KUy2/PLFqvLk54Q8WcvwMkUxT6sqj/ImwHUqv5YsQrvxu9njmVpUoOZVjrOquK1jYvPKfP12Vao1X8TRJHJx6T/HVmWlkRAQ4TaSQEo3CgIBPy6vG07/euUp1mgG267c4ra3N97p0z28vc/gaFODhrWa02TcIZ4QQ2LCYRY0q0qVap1ptfxazqByEO6I+6c5Nc4Ukw+7ZX4cTBGZJ2sY3agCtdOEW6mefrKecU0qUsu8L4O2PCBjLBfdCHdyTDAx+/rRtMrXVG/Rmh5D+mNeqjTtVnhxxVetKk1HvgScXc7S3xu8KNzRDwi4MJ1WJYtQK024FTF/tIYhpYti2Wclay6mFQvmjD9jbUoRW9CRGQxv0ZwKjUaz5gnkaeTWjMZkzsgIiHAbWUClO0ZMwGsXy4aYU9W0IW0dvHkUkaAmhkq/lbO6SG6t6km3RuUp12wQy92SiIj349KC3+nY4CcqthnJejeISn3O2/fyFvb/NSmjGMprE4t7N6VK5dbY7PEjODrj4mxC0G28d/anVvFy/DphG3s8IyD2OWF3NjKzfW1+NvmQb9OEOzkaIp2ws6xM1Zrd6LjqVnpgvA5OZEKbr/nih5c74yYpCvw2Mt6sEpVLluR/X1Tli5LtmHc9kEfqdwR05Evco8McmNWRH4pWo9NaN64/j4UIT+4cnMPgBuX439v/oUKacBNLTIgbx4bUpFHdurSZsJ6D6nWBXgfZsmEjk9ZdxC8+iiS39cxcvI1VxzxTB7ZRuPtxcWFnOjZuSs2eqzgfmdcR4NKRy4yRERDhNrKASneMl8Azp2EMalKZcg0Gsfw+2b5gI/ziQqZ2+Imvyjek6YqHBEQmEO5+gK3TOtCheS3q9pzBhKkpRVLDRw5iyJSprL0YTGRcEoS7c2b5YGzMq2UUSG12xvleMMQFEXFvL4va/EAdyw606jueGZOnMn3EGEaO6kcr08+o2yZtABbl/Po+rkuG0KtFK2r9MiC9OG3C+KH0aVOF2vVfUrhVP1vus3NQA8xLvcZrRcphYrYcZ/8IMtdw68iX6EfcPbyQsY2/pmyzfvS2ncyM8ZOZbDuSwYM7Y/l1YWoPyBiAJSkukuCLa1nxRwvaWVvzywC1ArUJ4/njzzXMP+BOcEIMSfcPsmT6OAaOGMloVRGfUphmS+dfW9Ghz7QUO7nHbbzJnceeiXDnEZiYC4F/i8DdPeOZ2a8fA8fvQbngnXVwtHS/gs5xcMloulsPpP2KawRGpliGux9k/7zumJmZZUz9ZjJ+T8YYaEobL9iNXsc615R744kxoTzbPx7bni1T27CmVfvlHAu8zwFHW+bNW4LjuYzRykjzRW2f3eftZ+XqJaybr+5fEO4HlzBvUE/ajN/PrdCYXN/PTeFihlmW/qbzSJvRgS8xvm7cWt+PNi0sU/uvxGMLrqG32D2+DZMd93PQPUvl/t09rJvZL4O5wqL7PJYcdFcVnGW458iS0R212qXZy2fBJSDCXXBjLz0XAkJACAgBAyQgwm2AQROXhYAQEAJCoOASEOEuuLGXngsBISAEhIABEhDhNsCgictCQAgIASFQcAmIcBfc2EvPhYAQEAJCwAAJiHAbYNDEZSEgBISAECi4BES4C27spedCQAgIASFggAREuA0waOKyEBACQkAIFFwCItwFN/bScyEgBISAEDBAAiLcBhg0cVkICAEhIAQKLgER7oIbe+m5EBACQkAIGCABEW4DDJq4LASEgBAQAgWXgAh3wY299FwICAEhIAQMkIAItwEGTVwWAkJACAiBgktAhLvgxl56LgSEgBAQAgZIQITbAIMmLgsBISAEhEDBJSDCXXBjLz0XAkJACAgBAyQgwm2AQROXhYAQEAJCoOASEOEuuLGXngsBISAEhIABEhDhNsCgictCQAgIASFQcAmIcBfc2EvPhYAQEAJCwAAJiHAbYNDEZSEgBISAECi4BES4C27spedCQAgIASFggAREuA0waOKyEBACQkAIFFwCItwFN/bScyEgBISAEDBAAiLcBhg0cVkICAEhIAQKLgER7oIbe+m5EBACQkAIGCABEW4DDJq4LASEgBAQAgWXgAh3wY299FwICAEhIAQMkIAItwEGTVwWAkJACAiBgktAhLvgxl56LgSEgBAQAgZIQITbAIMmLgsBISAEhEDBJSDCXXBjLz0XAkJACAgBAyQgwm2AQROXhYAQEAJCoOASEOEuuLGXnguB3BOIDyPU9yE3znnhH5dAfO63BOKJCfXl8Y1z3PWPIyJvG+dpT2KsYwKJMcSHPsbN5S5PAiOIzlPziSTGh+Lr5sL9J4EE5m3jPO2poBmLcBe0iEt/0wkkJ8YTHxNJeHh45ikyiojYRJKT0011PJNMUmI8cVERRMTEk5CUmx0lkRAbRXR0DNHxiTr2R3tzSf7OnFo2kUafjWa7byj+mTZJhqR4YqMiiYjS5F8w3i4rmGf5CTYbHnL1WRK56XGmXeTxS3JCLLHREYRrjGUyycmJxEdHEBkTR1xCUh5bf5XmySTGxxITnd/HpOY+JYff49mp6TQtM5BF+25yP80sOZmk+GiiIiMycicigvBMx3MUkQGurG5ZmiFzd7HrTmK+xz3NPWP/FOE29ghL/7IlEHp9G1vGWfLdd99lnhq0oY6dK37hcdlu+3IrQnl8ZQv21qZUHr2HEx6BWppThPopx+260qPfCPpsuKXFXverHx61w25QQ77o48T94Ggy/XRIjIKnW7Hr2ox6rTT5l0iY53GOjavNV62WsO7CY0J172KmFv2P2zGtRz2+0xjLaKKCr7K1T02aDVvM4hMPM22rX1/8ub5tGuN65PcxqbnXge6H2TniG/7bcQU7LvuQlhGJUcE83dqHrs2qZuTOj6Z8Z6t+PCcRH+7DrflmWHaawKiN17P84NO8T1mqnYAIt3ZGYmGkBIJcV+IwuDEf/tyTSctXs/rvv/n773nMmmCDWYXmtLPdynEPPyJ03v8gvJwdmFS3KEW6bcDphl/KHsIeEXzWgX42U3A87sG99B0nAA/YY9sQixbWWNlf1rlHOTfozemFfRhsYUabDc8JjMqQ7Vg/Dzy3/0Gf9jUpW7II71XW7F9C4C28dg2i5rcdmbL5CrfS+5bznv/pWt89tgy0+ITXChfjo6qtmXMikEdhaa1FEhnggqOVCeXbT2SS0920Ff/OZ3wU3NrI7PEzmbX2JJdD1N3wxXXlQHpamFJm5HF8QmLVV+bz/DM8jy9k3I8lsZx3lXOPYlT7U2LusWUUnevXp/2w6Ux2VPJmGSuWD6X5T2a0HrWB7VeeqWyT48KIdJ1IjyZd6T1hG86Z+pbP7htx8yLcRhxc6VrOBFTCbdsaEytHXAIiiVSZB+B7aQMOVlX4+JvuTN59k/sp/1/l3Fie1kYR6O3KYfvxjN18hdu+qSrmdwOfDd0oU7QuPR2ccQ1Ka1S5lBvErb3LcFz9N6vOPklb8Wo+n+9l5eDfadlgIEvvQYTyO0L5C/Hizt45DG3xPVVb9sOixpeUbapZuIl7Toj7OoZUqojNn7vZp3uoqU6lfKiE+7fKfFjmcyp9XQLTEYc45BFKSij1TLhjQ+D4SKxMLbAYuJI9vupdCePh+V1sdVjI5L33CItOg69uk0/zIRdwXjGC+iaNmHLan/uqwzSEpxf/ZrlVWb5vOIr5hzx5GKXsP4LooHPs7VGPyvVtsFl8gvtKQiXFQNBhFnRoRs++M1l6NSXL8snjAtOsCHeBCbV0NCsBzcINBN7i2fZ+fFusHn3UBFS5Jx7j68b1S2c5depUyuTswqk7zwmMVKu4Sk6EGF+8rl/CNdXO2cWVO8/jSDOLjwzkuacLLp4p2yaEPcP3/CZ2jLWk+IcVaTZ8MUv3nuL8VTe8QkC5DRvu48Ydzzu4+YSTlBBHiJcrV296cu9ZWPolzJQ+hhP48A6eatsqy6MDH/LwZqrfKr9ucudhIOFZwWT5Hucyh7GdbajRbgXnIGNfT1xwWWOLhVUrph0JYMtUK6xtshFuYogKvML6diVp3m8OC489zWgny/508VUl3D3b8J1ZB/6wLk+ZH3vy5143HqgKpHIWbhXnK2mcnDl16g4PAyPVCrOUH1Ih+Lhd5UracaD26XrzHl6BykVlDXZnznLqykN8Q2NQJDgxJpSwu6c5t6gjNctWpVrrkUzfcQr140UVN8+ruHqFqO7Hq/y7dZPrXoGqHyIZ9QLRRAY+xNPFFc+sx9qdU7g4p/XpClfdfFBOfnO6u5/gvoPt47tR7NuJbH8WiuqGToI7V7ePp+NHX9Ni4VUuPlH7VRsXCucm0q5GfSz7LmHrAyWSytWZZxwcZ0b3rj3ps84zi8+6iHbBa0OEu+DFXHqcSiBb4Y70IsB5Os1MGjIiVbiTkxKJC37CbftfMPupDO+9/z7vv1+YwiVK81aHVWy79DS1yCmZ5PhQ4m7bM8LsJ75+L8WuxP++oPOaR1xPLczyu+HEBpuiFLVJuVQefHEtq/v9SOF3/sPrrxfiP2+/y7uF36ds/TaMOwWhsXDZPkMYY0N9OTX6U6qb92CAowtPMv73hqQL7J7QiZ7Vf2V06rZJ8THc3jWB8c3e432V7+/z3ttNsB6/A5e4hBz/A/fZNZyBPXvScKQTyt3gjAvlmQ8ldf8yr0n5Fhvqw8k/PsHUrAcDV5zDR5ORjpalCHdPGvZbyCXX6bT4bxHajd/FLg+lQCob4U5OJjEuEpdFLehcI5VT4RK8+1YHxu24zO14ZVulsC2SuMj9LPilFtXfLZxyHBR+h7def51C/3mbL62GM3afL8nJUcTHHMK+ZR1qFk49Xj4uydtVxmJ/wpPnCUlEPTiH64zafFGyMG8WKqTa/p3C72Py6Tf02OyLmz/cdZrERJuMS+VXl/1K51+b0GDYTu4lofoBoMKW5Mn13RPoXuxT+m7y5aY/qh94Ty/vYFXnd/mkhOLD+7z3jik1reZzICaeqGSlR5r/As+tYPmIVpi0WMm5gEhUJ9aB53BePoJ6JlbMcAnAS/0EOjESHq5kZMMfaGk9CfU7OleWtKBTiyY0GL4LL9R81rxrWaqFgAi3FkCy2ngJZCvcAW74bunNl8Xq0jtVuKMfX+HKovZU/boLI1fv47CHBx4e57h0di49vy5L1U7zU4ucAgl/vhu76t/RZ+RqVh5OsbtycQXDOq7hWGphVlbhTowOJeT2Qc7Mbo3JR1VoM2UjWy544PXwKf5RoBSeqwtjcnQwUU59sKzRDCvb9RxWL/O+tYqZ3XpS1/JPnKIgOhlubejDoGHd+G3WDjxUvnuwY3xzrNu1p53dcZ7mIMjXl7emi00nms0/r3oMLLv/6NX903TUJET4c3eJGfUrdaTLtANc12Sko2Xpwj18O7f93NnSuxS1WwxJLZDSLNxx4X642tXBauAoxqw5rOJ089JZ1vb8mobtbJmwTSmuCiTcbzd2dSrQ6nc75my5kHIcnJlNT5OPqN1mCn/uu4t/RDhRwTfY2seaBSt3svuCchxc49r5LUy1/Jbafeex4MRDVWV2tI8b99f3okHF2tTpPI2lzh7cvXcf37AEYhNfFO4Y5z8Z0+EXKjadwN9PIb3k4OFhDs7sx2el++B4LxifRHh4YjHzRzal0rC1uFy5qerT4WUjGNGuFj/22crl4Ci1KwmZ4XsdmMbUPrUoPfgQD0NiUn7ceR1g/9TOmJhYMTmrcCfHQPwh5jerSo8swv14+yD6W/5C9dbLOQO8yjv1mXtlHN9EuI0jjtKLf0BAo3BH3MPzwGyGNajEBw0nsvT4fQLinuF1Zhmzan5H08EH2Oceknp5OYa4sFtcndqK2nWssZ7hxJXnjwi6PhfrUh/ReaITKXVPMcTFPuXqKU98/SNUl4izCrfK/Wzvcad0LpMwKpXczzcw1qw21t3tWH07A4D3Zhv6dO+K2dhDPE+KJdH/BPZdW9Kt/3TmXki/cU7QhblM79ERq9/s2OsP0S9cN1UW+HNkkjm/tMvuEnjGfjP5l7E4fU75sRGxpzeWlbthPcmJ/CyxSxdu2z3cjwnm6eGBdG1cj47DHNjjrUG4Y/0IubUZ2+pV6DpzGzs9Um4gJMYE81y1bQdVcdVZVXwXYl3qJ3rN2MehB8olceU2wFU2tClJ7V6zsDvySHVOmRAbyL1TJ7jzyJ8AVTl2AtHBd9nTuzSVrQYxYsNV1eVqcrzH/aJwE3SIv4a3o2Uta6ZegLDUUu9npxexcHATSrbZwNXAKGJCruA0YxA9WnRl4OHnBMekXCsJ99jJtinW/FyuLytvBuOjUUVDuLphBINaZZzpqwJ51wmnie0pYmLFpKzCrZLj49hbmdLulxFMOpJRiRZ95k9G/9YFUyt7jotwp+fEP50R4f6n5GQ7gyegEu6B9Xm/fFsGTpnJzLlzmTt1ECP6tKFe04EMWHOJWz4REHOTS5vG0rb4T4xweo57sFrX48Lg8gy61K5Js17z2XArkDCPHUxsUBzL33rQY7Qja7ed5mYYxKsJ40sLt+oC6T12DGhAt98HM2Lv89Rz5sfsHdGI37v1Z8COJxAfDtft6FGnNqZ12tF94lzmKv1UpondaVenMQ0a2uL4ACJfqHtSFqRUs//WoQdd1t5R6/iLs9qEO0OgbF6pcD9IiiMhyJUVNjVpY9mZfotdcA9wYZl6VXmIB88PDKdaibI0aDOAQVNTGc2eydxxbWnwTX3aKYVjD58Q5LaYrqUq8PvkPalFdsrzyudZZVWSur1mM+dYWvGgIpSPubZ7IxtSmf85fSJ9G3zIpzV6MnClK6o6tLwKN084u7Q/Q5s3wmrVYwIilf0858LKwYxo2YBGS+/hr1QQ3t3A/F6/UPGbBrQdN5eZs1P7NHUQA9pYUt7EimkviG9aXFOq2Qc0r81PMy7zPO3XQS6Fu+OvI5l6PL2MX7lcxCRrGxHuNLwv+SnC/ZIAZXPDJaAS7j4/859i3/BjjVrUqluXunXr0qzLEEbt9SU0OvVubpArzg62NNR0Xy8hEh44YtuwPC1SLw/GRQRwZVlLerepS9XyVajXqD22W104fOkhvmEpRUkvL9wp3D3WdaFnjy5YTD1BSFI0SSHbmdrSkj79F7LZQzm1SatY/p6P//st5aun9FHpZ8rUmi5DlrLXF9K6mxHRDOHu3LUv/bfm/Lyz3gp36j1Vj8296N+gOqZmtixzO86CpiUyHgdTXe3oTJmiJSn1TSV+rJHGJ+2zEyMW7uNsYCChz7Yz4dti1P91BCOX7eP06T3s3z2JDuWq0W3CdvbdVgQrnoS4J3ift2dyqxY0/7GGinftmqZU/OQtPqj0MsINT47NYc6AhpTqup3bQdHER5xg44QedDbvxfwroBqCQCWWNXnvo0/4plpdatVJ64vy2QzLFqNY4xaKj1p9WUbsU4R76K/1aLDwDn5pw909OMiBGV35r4kVU7KKvnKpPCAW2D8AACAASURBVGY/c5pWoVuWS+Ui3BlkdTEnwq0LitKGQRLQeKlcU09Uwj2ChibNmO6cpSAnIQK8HBjeoCK/dp7C0quZG7h/YDrTW7zHex8Wo9DP41h6+h7+SaBRuP1v4vN3Dz4pVpdeatXsaS1qFMary5naxYaaVgs5EhlC5JFhWP0+jcGrL6B6kjY2FE7+wS+mZjQZuIJdeaoIU4T7IU4jG9Lk15e/VE5MCMnHRtC8Wq9Xe8adVgz1bB9rhjajTgVT6k1ew9QGRSmX9hx3Ovva9FjuzLlsx8SJIMLvDMualaFSKaWAsDCFlanE/yjcYxMHlGoy5S/5OSGP1zKsTHGa2Kxg9YWUyzSxIT4cH1kGUwt14U6LkQWWLzwOpuFSudL+/f3sm9KHUp8MY+2TEHwvLGTiqDE0/mOvqoBQdfHkyhImd2rBDw2G4+Cl9hhfioda/n3G+VWD6NUky6Xy4POcdRxJI5NmTD3jl/qIWGpTCREk31/GsAYVXsiF5EuLmdixl5xxa6Ge29Ui3LklJXZGRyBvwt2busW+pPcWX9wC1FAowug8ltbVO9NhzDacs5y9KGffAZ5HObdpMA3++zk97A5z7GE2wh1+D/9TkzEzacCw3Ap3jCfHFg3gj07tGXv4GYfHfk+n8UtZcupZSrWx8sPCcwmD6lfily7TWJ6nijClDC2e8/Ob0b77ywt3YmQgT/9qTeMK1v+OcCdE8PDwfOysa1CkjBn1q75DiTThVrEfh5mJCR2n7ueAUvqs6S/6EYGX7OnwWWcmO+zm0J073FEmz7vc8QlTDZWr2izwNs92DuD74qZ0XXicU89Srt5oFO70GLXk99wKd9xT7hxeyKh63zN87zO22rVn9JghDNzknVFA+Hg7y/tb0rB6a8Y6pzyZoKlLmpclcGfXeMZ2yyLciXe4tnMCnT76DMvZl3B9lDEAeWJUIE//7kDTSi1fyAX//aMZ0qy1CLdm2HleKsKdZ2SygbEQyLVwxwVw//hSJjb4iEoN5rLq3GOUO8oQRlTgSTa1qUalBiMZ9tdlgsIeE3xpHQPWXeLq49R7fEG3ebZrID8Ur8DvC45zyjcb4VYeQ3OZipXJF/T48xCqGic12BrPuInmwaHZLBzZkp/Gb2Zhi8pMWJlWNKWc+cVBxDlWdK9JU7NOdLW/ohp2MuV2uzdXdxxk+9wjKLVtak+iq+0VvDba0LtXN8wnHVHbNpOJ6otm/zLs4sKecWHqD9Sq8zu9F51SPRaUsVa3c+rFacrjxKozUOUZ9ICzHF9qQ503ilK66Bu8ZZU6clpCIKFe25lYoxi1Wk1ihtO9lMIxFZXbHJm7nYM7ruKtitE0rEwqUa9+M1p06kQntcl25QlOKUPehXrid9iWWiU+o3NaLMMeE3hyLm2qfUTxympn3Om3W2rQLkuhoUIl6+NgKaTiCLy1j93DKlNl8mZGd2zJzGmzWeGWIaREu3Fo9u90qG5KdduT3AqJTa3mfs7jq6dZN2ATl4KjULsTnSkIvqcWsWCIJaU6beJ6UFTqtuE8PPcXc+oX4cuqk1l+xjslF2L9CHPfxGTzb6j96xSm7/AgowwSbq+2prtVU+rabMQth2MtkwPyJVsCItzZopEVxk4g18KtjAvlc4sLq/rTpWY9ug61Zcy8ecybN4VZM3rR3qIbve32cuhWgGJI0KX1dB86kHFTpjBPsZtiy/QeDTFtPQv7Y96qkaY0XiqPCyRUKWyrX5ymbXrSc8w8Vm7azZnHqB4Lyk4Yozx2sX1uRz6r0ZKmNTqzeP81PFQP3SoRVCQ6CDcnOyb1ak/L1j0YN28ec1T+T2PqKHvsFzijDPqZJm5Z4x52fAq2v/eiTo8Nqke40gU+xAsv150pfZw3j2Gty1O5RmXKtx7GvHmLmTfvIK5eAekCGB10h509S9HIeixTdnlkKxhZ9/9Pvmcn3BDAI5dV2NUoyUdvFeI1i7QhT+OIi/TCdeVgbFq3oXPPwUxSMZrLvHmTmDhoFZt23+Jx3GOC3BbRtdR3NGrclvZ9hzJ06FCGDh7A0O6NadqmL2OWHef640DCPXcxt2U5funYXxXLeVOmMKN7FywafUGxWgMyitOS4iC9eM6C1sPmsXiZIwfvRBIQlZ1wQ9yza7hv6ExFs5bUq9GRSYt2cT6TCiujrm3EcWQnzBq2ZcSMWcxS9WkmsybPYcpQJ66ERGc7pG/U9Y1sGGNNCVM7DjwPT41jNrkwaxwzRrSioVlXRjqe5nzKcGqpx18Yp2Y0oWuH9rSff14l6Gp1mv8kvAV+GxHuAn8IFFwAYbf34bRsPC1G7cUtNDp1OMzseagXnaUVdzW0bEGvNW7cVKvw0WRn3rwlU48EcD+1Ij34vgtHZjen+ewjuKQtVM4I1QrblH206T2KZVcgIg48do5i6uypjNqpVJ2p/YXd5qaTHb0aWtKw1xqcbvpoEMVAbu9biF0n9QKltIIrtbY0zXqsY07PHjS0mMr2ELXHxpSR01aPSC1yU29XmTenbt2prHa5j6rGOjGE8McHmFX/C6wnrGfj9UwKo2mvL7Us8OxSFtrZMWTpWVXldmqZoarNGJ+buK3pRQvLhtQdsZrVLupV4L6cXTqEEa3T+tOQunV7Yed0E6XmLDHmIT5XF9Dl6zbMWn+R9G4oj+f5rmdc44q0aDuWOS5xKM/m++4dxZAuzVIZtcHSchZr1gygy/hlLNx3O2U0stSequLbM2W/6sfLE5fVrJ7dm5bLrhCgHAhpfzE+hLqtYVQLS5p1snuhvRSzMHxuOrGmV10sG6b1KaeCxLTGUSrgODJnAN+V6sqS20E8Sf/F9uJxqhyrmnJBdcUn5irr+pjT02Y0U09kWzygtmOZ1UZAhFsbIVkvBAo8gavsm9yJ3jWaM+xoIiFZ7uPnCk/EffzOTKNZqcb8seIs59UfqctVA/phFOnljMuMBpjUn8qyM/cJTB+NJobkhMMsbGZKC8vB/LE35SUb+uH1P/XiPjf3TqaPSRl6rH3C9efpnc19g6kFa8Mb/UbPwasxCiy5732+WYpw5xtaaVgIGAuBGG5tHcPYLjUpO/k8z9Ke6c1D96IfnefSAis+qzWWxcc9Sa3VykML+mGqEu7JNTEpacaAv85zJfX9pIlRQTzd2pUWP9bAsvcSNnlld+NBP/qROy/i8Lm8FccOxfl8yE4O3la/a527FtIL1n4dwoAlpzAKLLnrer5aiXDnK15pXAgYB4Fwjx1sm9mbarXmc9IvXMOl+Jz6GYHvlc381fl7mk9z5vj9lNHjctpCX9cpw7b6nN/E5JbfYNHMnCZtUorTOrZvz6+mdWg/bBEOJ+/xRK1GTF/7khu/Yp5f5cb636leeSKrjt9NLcrMzZaKTSzRwTfZ27cc3casxPFsQLbDq+a2RbFLISDCLUeCEBAC2glEPcDr3GGWTXDiWmj2BU2aG4oi0OscJ5ZNYNu1UJTB6Az5LyE6lLtOE5g3eQhDhqRNwxkyZA6bz3nxIL0w0JB7mep7XCCR3idYMW4bp2/5qJ4qyH2vlII/b86tGMfu07e4pT6efu4bEUsNBES4NUCRRUJACAgBISAE9JWACLe+Rkb8EgJCQAgIASGggYAItwYoskgICAEhIASEgL4SEOHW18iIX0JACAgBISAENBAQ4dYARRYJASEgBISAENBXAiLc+hoZ8UsICAEhIASEgAYCItwaoMgiISAEhIAQEAL6SkCEW18jI34JASEgBISAENBAQIRbAxRZJASEgBAQAkJAXwmIcOtrZMQvISAEhIAQEAIaCIhwa4AiiwyHwOPHjzl79qxMwkCOASM6Btzd3Q3nP6F/wVMR7n8BuuxSdwQmTZrEG2+8wTvvvCOTETN4++23ef3113nrrbckzkYcZyWP33zzTaysrHT3n4QRtiTCbYRBLUhdUoS7fv363Lp1SyYjZnDy5ElMTEywt7eXOBtxnJU87tevnwi3lv/ERbi1AJLV+k1AEW75da7fMdKFdz4+PpQpUwYnJyddNCdt6DEByWntwRHh1s5ILPSYgCS5HgdHh66JcOsQpp43JTmtPUAi3NoZiYUeE5Ak1+Pg6NA1EW4dwtTzpiSntQdIhFs7I7HQYwKS5HocHB26JsKtQ5h63pTktPYAiXBrZyQWekxAklyPg6ND10S4dQhTz5uSnNYeIBFu7YzEQo8JSJLrcXB06JoItw5h6nlTktPaAyTCrZ2RWOgxAUlyPQ6ODl0T4dYhTD1vSnJae4BEuLUzEgs9JiBJrsfB0aFrItw6hKnnTUlOaw+QCLd2RmKhxwQkyfU4ODp0TYRbhzD1vCnJae0BEuHWzkgs9JiAJLkeB0eHrolw6xCmnjclOa09QCLc2hmJhR4TkCTX4+Do0DURbh3C1POmJKe1B0iEWzsjsdBjApLkehwcHbomwq1DmHrelOS09gCJcGtnJBZ6TECSXI+Do0PXRLh1CFPPm5Kc1h4gEW7tjMRCjwlIkutxcHTomgi3DmHqeVOS09oDJMKtnZFY6DEBSXI9Do4OXRPh1iFMPW9Kclp7gES4tTMSCz0mIEmux8HRoWsi3DqEqedNSU5rD5AIt3ZGYqHHBCTJ9Tg4OnRNhFuHMPW8Kclp7QES4dbOSCz0mIAkuR4HR4euiXDrEKaeNyU5rT1AItzaGYmFHhOQJNfj4OjQNRFuHcLU86Ykp7UHSIRbOyOx0GMCkuR6HBwduibCrUOYet6U5LT2AIlwa2ckFnpMQJJcj4OjQ9dEuHUIU8+bkpzWHqB8Fe7EuEienlvDtpMXufggNMWbpHgIu43L7o38ZW+P/cqNrN5/m2cx8cRr91cshEAmApLkmXAY7RcRbqMN7Qsdk5x+AckLC/JRuJOICX7AgYFf09R2HvNPPgaSSIr1w+/keHqafonJa6/x2gdf8nG98ThefoxvlEj3CxGSBTkSkCTPEY/RrBThNppQau2I5LRWROSjcEcSGXARx+aWzN/qjGuQ4kwkEf7OLG9uQvlihShU6E3efLMQb35QnNc6rmfPdT+StfssFkIgnYAkeToKo54R4Tbq8GbqnOR0Jhwav+SjcAcQ6ruLcV+ZM31lqnAH3eH5nsH89L8PaNh/EYucrnP9xDaOzmxHic+H8ueh2zzS6KYsFAKaCUiSa+ZibEtFuI0totn3R3I6ezZpa/JRuP0I8dnIyDLfYlarBwPGTGfe9L60r1eW996uQ781LlwKA/xu4LPBhjJFbZjodIO7aZ7JpxDIBQFJ8lxAMgITEW4jCGIuuyA5rR1UPgp3OBF+J1lc34SyH5Tk00+/oFy5krzxVhFKVJ3JirMP8QcSnl7CY1k7Sn07HLvD7ih3wuVPCOSWgCR5bkkZtp0It2HHLy/eS05rp5WPwg1xEX5cWlyHZmXfp7BSiPbmu7z7SWVaLbvGVZ9oIIagW/vZNbA6n7WwZ92Fxygn4fInBHJLQJI8t6QM206E27DjlxfvJae108pX4YZY4ARLWtSgaqFCFCpegdItVuISEEmkyrd73Nw7mR4fl6b+FBfOeqcs1e62WAiBFAKS5AXjSBDhLhhxVnopOa091vks3EqNeAQB3p54XrvGtZt3cPMOJDIhiSSVb7FEhz3j0U037j2LJDIuZal2t8VCCKQQkCQvGEeCCHfBiLPSS8lp7bHOZ+HW7oBYCIGXISBJ/jL0DGdbEW7DidXLeio5rZ3gqxXuhGgSQ5/yNDSR6ATtzomFENBGQJJcGyHjWC/CbRxxzE0vJKe1U8pn4VYufYfx3PM2ty5c4MLpQzjvdGDJIW88/GNJIIHYcH9871zljm8E4bFyqVx7yMRCnYAkuToN450X4Tbe2GbtmeR0ViIvfs9n4Y4hOekoi61MqfLGGxQq9AaF3vmI1ypPxsHZiyCC8D7ryMxGJWkw/SzOXlKc9mKIZElOBCTJc6JjPOtEuI0nltp6IjmtjRD5OeQpxIX7cXFBDSybWNN9wlqOHNvCYbsOlGj4Z6pwJxLqcZTDo2vwWYtFrD3/mNRXkWj3XCyEgBSyFJhjQIS7wIRaitNyEep8PONWBmA5zqK6Jfitrz3Lz/gRpYyStqUfZcxnpwq3MgDLZTyWt6fUN8P5UwZgyUXIxESdgPw6V6dhvPMi3MYb26w9k5zOSuTF7/ko3GlDnn7HMLvDHFWGRNMg3DLk6YtBkSW5JyBJnntWhmwpwm3I0cub75LT2nnlo3CnvGRk/Ne1GTpnP4cexWgU7nhlyNOlv1Hqv/2ZfuAW3tp9FgshkE5AkjwdhVHPiHAbdXgzdU5yOhMOjV/yUbiV13q6sOKXkvzQfiIT93iS9OwaTzb3pYyZHcvP3CcgKYln1/awrlsRitWdjONZb1Rv/9ToqiwUAi8SkCR/kYkxLhHhNsaoau6T5LRmLupL81G4k0iKDSDQeTI25rWo9GU5fqrwPT98Xpz/fPBf/vdNOSr89BMVvv+S778sxS8LbnLucRyJ6t7JvBDQQkCSXAsgI1ktwm0kgcxFNySntUPKR+EGkhMg/A7n983hDytTyisvGsk0fUyZ7y3oPu9vDnlGEaS8d0T+hEAeCEiS5wGWAZuKcBtw8PLouuS0dmD5K9zp+3/Ezb2rWdSnD30yTaOZPH8HzoEgY6+kw5KZPBCQJM8DLAM2FeE24ODl0XXJae3AXpFwa3dELAyYQHwIAY+e4n3Pj3BIfYFMbvsTT2TAI3y97/EkHBLzOHieJHluORu2nQi3YccvL95LTmunJcKdLaNkkpOzmbLdRlcr0vabh/ZSfc3DFroz9d3NyoFj6GplzwlSXuaatfE0llmXgy+uKwcxtasVtschRHkTbB7+jCfJ02Kem880QFps08yM4NMohTu7/1805XJOtkYQX/UuGE9Oq/dKt/Mi3NnwDDi1ALv+lvz888+ZJ+uxDNnins1WulgcwM1ddkzp3wWLBRfxD4/T0mg00SHX2TmkMb+NXs7y08oD86/2z33D7/Tp3Y1fZ5xWnXErL3NN/4t+Ssh1B4Y0rkP9/pr8i8f35GKWDG1F2R47uRIUTV5KHYwjyd05vXws/bMeaxq/W9NlyBYuxoUTd3EBQ7o0zXx8pm5j2d+OBacC0sNg6DNGJ9zuW1g+1lpj7H7+uSkNLBaw3z885Smbx6c5vby/RttqdRpj7XCda0/zkjX6fTQYR07nL+N8FO5wokPOs912KKNsbLDJcRqAjc0qnG48wS9/+5vr1n332DKwQxO+N+/HDAcHljk44OAwlv7drLE0689w+zPcj4gljyeIudi/cgY6kJ4WppQZeRyftFNQvxvccFrBoOH27L0fQUD6jlMeu3O0MqF8+4lMcrqbi33oykR5xZsHW/vWo3vXoYw6kFkoIr2cObNqCF1+qcxn777F2xaa/Yv1PsDe2b358YcBrLkVjG9637T7aRxJHsCjyyc4oDrGlOPMAYexHbAy/YyiX1TEYpgDC5akLnfYya5Dt/CJDSHx+EisTE0p37AL/ezS1qds2751Uyp2GI/tdg9CjOBVfEYn3JftmWRdWUN8lThuZO2G89yLikv5EXvXCaeJrXj3g4pYjZzL9MWpsZ4zgTl96vN13Tb8MnUnTjf05X9P7Xmbk4Vx5HROPXz5dfko3MGEPdvDtErF+frtrNXkat/fN+G9Sq3o9Lsje/VNuHv2pKHtHh4AKW8hfciNDRMYVqcOxUzHsuV+KAE6fz1pKN5nN7Nu4UxG7vAgNO0/XVXytqeIiRWTXALIeB9LHLER93FeMoJJK/ay91Umb2Ik+PzFH42b0r2fPdseqh2Q/rc4vXIYfVqZ8oN5J8x/eA+T3zQLN5HuXN06jc7fm9J/+33c8gDVaJM89T/2z0ytGKnpFkJsCKiE2wKLgSvZ46vG/uFJNkxoReVKFSjZ8i8uBUTm6SqGWkt6M2uswp1tfNXJZ5f74U8IOrOYTjU/xsS0L0NXX8RffTsDnTfanNZhPPJRuJVLuDfYNdSctg2qUKWKpulHKtRvxo/9V3D2bhARelRarjrjfkG4Ae+DHJjehdImVkxRE9Ck2AgifNy5fvUyly5dSpluuHP9STjx6hVXSbEkRPhw7/pVrqXa3XDPXJgVG+KDz8OMbeNDnvDouD3zepnzftE62Kw6ym7nS7h7++AXBUmJ8YQ/uY77Qx/VGXpCdAiBD65yzcMH/wjl9alpf0rlVzh+99x5mLpt2poov3t4u6f6fekKly554xMSneMVheSYEGIPDKRp7b50nX6QG2mNKZ/uW3EY14nmXYdid9SHPUPKYGqTjXATxsNzq5nTpATV/zjIUY9QNZ/VG31x3miT/GWEW3WYTme61dcULT2QlQ9CeJbHor8XSf+7S0S4Nf1oh9hQX86O/5oaXzSm3bidnIv/d+Oki70bbU7rAk5qG/ko3LnxMggvZwdmNDSh4QwXvXqtZ7bCHeSKs4MtDU2smKEm3MplYZdJlTEp8lbGs+qfZbncrSCJ9CLAZRJWJkX4OPWZ9qy/uu86TWKiTca2Kl8sPsloN3W7ytaTsL8MitAfH5khjH43nNjQrQhF605Kf5lLSjSUa9DHsbcyxSZ127QoXba3wrpy2pWQ93jttU5MdLpBThfeEyIDeOBoRcPWtgxc6Yr6SV9au8pnVv/U16XNZ+9zmoXmT6NN8pcU7iDXlTj0rKHhCo1mjvq+VIRbs3Cn52D5Gi9eedH3oGbjn9HmdDb9/SeL/2XhTiD28TluLmjLl+VGM/eoB6++tEoztmyFWznjnpb5jDvs5m62jetKtYp9mHnkNEcvX+by5V1sWjKUFp9XpdrofZy5qwzm+pi7JxcxqVpFus08wrajKXY7Ni1neI+duKcWZmUVbuWM+/HxJcy3seD9onXpvfoYe85ext3bF/+oF4UxQTX+e0tK/bcZg9dd4FpYah/jwuDiNKxrdabzqM2cjoK4CH8uLmzCb4NtGeWwi8uXL3Pu1BGWd/kOs05jmLr7JpnvXGfwSv+1330843beIbsf+7kR7vB7pzgxpgolSvVh2gG3XI9Zb7RJ/pLC7X1wOtNSz7hXyRl3xkGrL3Pa4qvuZ3aXypUfxVnOuF2zS0L19vR83mhzWofc/2XhhtjHF7g57xdKfdRD6xmeDvuttSmNwh16HWeHYXQ1a0yJXxdy3DuC8ISHXFxpyxjLpvwy7jw3QlMLSgglyG03O20aUvxHG6buuomX3zUurB/ML0XL0GODDym3o0MJeuaF66E7BMbEqy4RZxVulbM5JW+WM26iHxBw6U9alvyaXmlvZlPu00f44bGoLvVa2zJ09SUCYgMIdd/OmNo/02n6Zra5p7wNPTEmGJ/9venUuCN9Ju3gnMaXpMcSFXSTzZ1L8WOX7C6Bp2DOjXCrXu+6tC2lPu6Zp+PAaJNc23/sOdzjDr2+HYdhjalTrQrVeu/nanCM3OPWmvGv2EBbfNXdySb3YwPu4bljDB2qf0jFJqOZss092x/Z6s3p+7zR5rQOweejcCcQH/OcO4fWse0vtYpX9cpZBwcWTx/JyJY/8EGFcdifvKffVeV2/ejbpR3m6tW6UafZOqorXWp1ZtolCFN/eivInWd7BlGxeHm6zj/OyXte3Nw1FZsfP6KhjR0T5mzhgIsHD6MyR/SlhRvlXegnVO9Cb227mtWXFOWNJjLgEmtblqTpEHvsz/hBqAd+h2ypUeIHzDuNZNT81DgtW4zDjM6Yf9+QDlkLn9Jdzahmr9XTjtmq97amr8w0kxvh/qevdzXaJNf2H3u6cL9YVW7Xry1d2rWgpe1c7M8E6lXtSKYDIw9fjPVS+YtPDTjg8Nc21h26w/PUH/KohPvFqvLF08cxrm1dGrTrxpBVZ/TqVmMeQvuCqdHm9As9/ecL8lG4w4nwP8HiRiUo+2HavVMNn4Xe5c1SFflu1F5Oqi4n//PO6HJL1Rm3VXk+KPkVP1SuzM+VK1O5cmWaDsjyfKzvHlYO7EnrhrY4PoDIjEqwTPez2090QnlSK+juGQ6Mq0zDWpUp+79KNOs+nrlHb3PjfgARCUmqUcdeXrghLuwZF6f9QK3OYxi12Y2ohKcEeS6nx1flGDL3KCfS3o++oTNlipag+Gff8X2llD4q/UyZWjPAbjeaHwfOEO5mg+1Z6pz9oygi3P/gyMy1cH/Hhyaf8VXFtJgpnznF7R/4ogebGKtwv1W4CCW/rcyPP6nFr0EbzIbu5HpI6pgGKuFuRqE3i1Dmu0r8kG7bgLpmQ3G8HoIRPcaNCLf2hMtH4fYjxGcDI8sU5bNMLxbJIt4fl8fEyhGXgEgitfv7yiw0XirXtPc8Crd6E+kFYVkY6EK4ST8js8F6khOX/W7gs6UfZcxnZxSsKcs2dKNM0br0dHDGNU/vVM0Qbm3Pj4twq0c9l/O5Fm4Nj4PlcheGZGaswp21MFVjTLK5VK7R1ggWinBrD2I+CncCifGBPLl+jRtpj0dp+rx2i+v3Ms42tbv8aizyJtxWWNZow/izEKo+eEiAG75b+/N1sd/4Y/MlbqqvA1SPYLmuYeWE9lT7tAojnZ7jEQQahdvPmVP2gzE1sWK6WjW7QkOjMCbFQfgFVvaxZMRoO+btOMz+P76jzvjDGY9bhd/D/8QYGpUohfX0Axz0zgvbJGJCHnBgYGmq9Hj5e9zRD89xaZY5JYt0l3vcShhEuDMdjCLcmqvKM0Eyki8i3NoDmY/CrX3n+myRa+GOesDpZX3p0+AnanbawZmgaNWwn+DHk/N/sbhJFT6uO5vVLg8IVUY/c3HKPLDK46MctuvMFyVqMOKgHx6h2Qi36jG0/tQrXokhe57hHpxBT6Nwoww8Gs715b8zfPRgmo+Yh2M7U4btURvgJCGA0PtbGGtajDptpvLnfm9S6tCU6/0enLR34ujeG6iPq5KxV4gP9+PGnBrUsR6N7d/XUrdVt0iZ1+xfZrtg98PsGfQFxcuPYP5xj2wfLcu8FcZ7WU2EO1OoRbhFuDMdEAX8smpzDgAAIABJREFUi86EOzEuCp/zG9i1MftCNNVQjlmK01TLVq7BYecV3J+F5zjgx6uMVa6FG1CeQd4yoQPNq1jQb94C5qj6OJXp43rTtnFPei535Yby6iu/G5x3WkzL/sNYaL8kZWjLqf35o/tvVO9gzw7PlKFMNZ5xR2YtbHNg54nL3ArI5ow7FVboublMsu1Audrt6dpsABvuqA8pGktsxD3O2Nvwe8u2dOk7CjuV78twcJjB5P6O/L0te+FOigoicHNnzJsMxmbhSe6rByjgFpdP7FT1cckCO4ZZfMQXdayw6j/1xSEdieXp5c0sb1OUb6xXsvWqb65vmxjtr3MRbvWjCRFuEe5MB0QB/6Ij4U65bHpwUGmqfJLlHnZO97fT1v3nQ14rOxr7U/pTVa56yciUKfRecAofIFHLgRJ09zT7x/1Mg5oZLyWp/1tvhuz0ISQ6Y2tNdk27DGHBRUh7n8jj08tZPu3Fl4xk3dZ67HKU953EhftzcYEFXaZpeIlHwCl22fWnVf3faDxEreAlvT+Kbz6cWtCb/pZpvlfj55+tmbLjGjfTngFPt1ebyfRc+BbVc+Hpa/PyEoUEXzyOLmJ0jS9osegy5x/n/oUJItxyjzv9mDOkGW0/zNT7Ive41WnIPKAj4U4pVFqhvOji438g3K9ljNR1T2/CkvbKxDw4pOnVe5o2z4VdymswNWycaVu19anL1ZZkzKZvk7Hohbl0m7R+J6sutr9gl2lB9iOxqcw0tam2LL2pIFfOahiNLn19DjMi3CLcORwe+rtKhDvb2BhtTmfb47yv0JFwJ5GUEIH/3Wu4Xb3IxYt5nS5z8aIXPiFRxOS9D7LFv0ZAGQA7jFPTm9C5Zw+s/7rzjzwJu/Y368Z35LOGdhx6Ek5IHsbVNtokj/TDx+s2N9zv8iQM1Ie7V0FOSoSwJ9x198TzUQAhRjBiVk4Hj9FdKtcWX3UYMSGE+Hhx5dpdfCIS0KNXOqh7qbN5o81pnRHS2Rm3Dj2SpgyOgL/LLKb0G0S7ftvwSH+TWm67EYr7jknM6dOCFgvc8Q5PGT0ut1tLkueWlGHbGZ1wG3Y48tV7yWnteHV0xp3djlIqmx+e38fBjY44OmY3rcbR8SRXHgWR0y3V7PYiy/9lAspQsJt2sXrxCZRzbvUxaLR7FoqX8yb2rV7M9juQ9hZT7dulWEiS55aUYduJcBt2/PLiveS0dlr5KtzJiTGE+xzGoWdVapbM7t53IQq9WZLS3/7BwpN3eaTdZ7EQAukEJMnTURj1jAi3UYc3U+ckpzPh0PglX4U7NtSHE3/8l+qfvc7raRXkL3x+zIcmVkx09sdLn4ZO04hLFuobAUlyfYtI/vgjwp0/XPWxVclp7VHJR+EOJuzZHqZVKE6jtqMZt/oYFw9v5MCUlpQo0pJeczey4+JFzuxaw5rhFvww/iBHPdRGFdHuu1gIAeMdgEVim4mACHcmHEb9RYRbe3jzUbgzxirvMGIzW5TxPpW3UR0cR/USffjT6QZ3lfuhAW7c2zEI0xrTWK1HbwfTjk4s9IGAJLk+RCH/fRDhzn/G+rIHyWntkXglwm2T+mYsYh8TdGMZnUt1Yvbmy7gpjwGrXi05jhol+mKXKuba3RYLIZBCQJK8YBwJItwFI85KLyWntcc6H4U7iLBnu5lavjidx2xhi0qlAwj13cX4r+swbOJq1p66ytVjWzg8oy0lPh/Gn4fcpThNe8zEQo2AJLkaDCOeFeE24uBm6ZrkdBYgGr7mo3BDTMhTjo8og6nNJCbtVcZEU0ZYO4ujVUl+KPYGbxQqRKFCb1Do/WK8Zr0epxvZv9NZg++ySAjIr/MCcgyIcBeQQMsZd64Cna/CnRQdRNjO7jRp0IrW47ZwOkAZYS0If09HJtQvz/eqCvNSFCnZjcnnH+AVZeTDP+UqJGKUFwLy6zwvtAzXVoTbcGOXV88lp7UTy1fhJjEOnrpyYMde9jm78yBKcUh5qcVT3A7sYNvSpSxdup7Va13xjIwj96+W0N4xsSgYBCTJC0acRbgLRpyVXkpOa4+1DoVbEWRf3I84sXv3KY64B2jfu1gIgZckIEn+kgANZHMRbgMJlA7clJzWDlGHwp3xpqjKZZtSd9RGrl27ppruPA4kMDLj1Zba3RILIZA7ApLkueNk6FYi3IYewdz7LzmtnVX+CPfrr/P6G29QSFV8VohyNo6sOh+k3RuxEAJ5JCBJnkdgBmouwm2ggfsHbktOa4emQ+FOecXjc89buJ0/z/lTOznk2Is6HxfGpMQXfFm+MqamptQza8bEgwHck0HStEdHLLQSkCTXisgoDES4jSKMueqE5LR2TDoU7iw7Swgj5tkl9q9ZwaolS1gy25bhHWvx5TuFKdu4K+1+70e/fmOYumAnZwMx+nfMZqEjX3VEQJJcRyD1vBkRbj0PkA7dk5zWDjP/hDvrviPvc/fUGiZ3706v7t3p3r4xtctVoFzZJnT9cy1LV5zi6mN5rWdWbPI9ZwKS5DnzMZa1ItzGEknt/ZCc1s7o1Ql3Vl9897ByoEXqs9zv8dprnZgoQ55mpSTftRCQJNcCyEhWi3AbSSBz0Q3Jae2QRLi1MxILPSYgSa7HwdGhayLcOoSp501JTmsP0CsU7sfcc17BxOrVqV+9OtV//o4vS33Eu6XKU7zTUvYevc2T4ChitPssFkIgnYAkeToKo54R4Tbq8GbqnOR0Jhwav+SjcIcTHXqRXWNsGde/P/37W9OuWVW+LfQOb37ajA7DJmNnb4/92m2sOfeUyDh5zltjhGRhjgQkyXPEYzQrRbiNJpRaOyI5rRUROhTuZCCCRxcPcnjzKlatWoD93F5YflSYYq/9l69+aswvSlFar/50n7yHU3f9idTun1gIgRwJSJLniMdoVopwG00otXZEclorIl0KdwLgyfaB9Wlc8j+8834JPvm+Ij9UqEjFin0YtfQUt7X7IxZCIE8EJMnzhMtgjUW4DTZ0eXZcclo7Mh2ecStDnp5giZUplV//hHINhrHsbjwh0fHExyeQmJSMck4uf0JAlwQkyXVJU3/bEuHW39jo2jPJae1EdSjcqSOnebhx0/UKN9wf4RcLSaLW2qMgFv+YgCT5P0ZnUBuKcBtUuF7KWclp7fh0KNzadyYWQkDXBCTJdU1UP9sT4dbPuOSHV5LT2qmKcGtnJBZ6TECSXI+Do0PXRLh1CFPPm5Kc1h4gEW7tjMRCjwlIkutxcHTomgi3DmHqeVOS09oDJMKtnZFY6DEBSXI9Do4OXRPh1iFMPW9Kclp7gES4tTMSCz0mIEmux8HRoWsi3DqEqedNSU5rD5AIt3ZGYqHHBCTJ9Tg4OnRNhFuHMPW8Kclp7QHSkXAnkBDjh+exzezauIY1a/I6rWfNmjNcexxMmHafxUIIpBOQJE9HYdQzItxGHd5MnZOczoRD4xcdCXc0kYEXWftbSSoUf43XXsvD9J/3+E+Jcnxf7g+WnvLkkUY3ZaEQ0ExAklwzF2NbKsJtbBHNvj+S09mzSVujI+GGmJCnHBtRhmqf5kG0FYH/tCqlhx3mgV+EjK6WFhX5zDUBSfJcozJoQxFugw5fnpyXnNaOS2fCnZQQR+jDS9y87IKLS8p05tgBtv9Rm8pfNMa8hx2rU5enrXdx2cK6hYNp+W1tejpe54aPvNRTe8jEQp2AJLk6DeOdF+E23thm7ZnkdFYiL37XmXC/2HQ4UQFnWNeyPO2s5zB3nzd+LxiFEHBzJzt6m1O263q2XX1G1As2skAIZE9Akjx7Nsa0RoTbmKKZc18kp3Pmo6zNR+H2I8RnAyPLFMVmohNOd7Nxxu8GPpv6UqbyeBYc98Q3GzNZLAQ0EZAk10TF+JaJcBtfTLPrkeR0dmQyluejcAcQ6ruFcV8Vo9Pwv9l0PQrlxZ9Z/xJ8LnN3eTtKl+nPtP1ueGc1kO9CIAcCkuQ5wDGiVSLcRhRMLV2RnNYCKH/PuCOJDDiLQ3MTKtSyYfDqCzzT4I//zb383eNjitWexHJnLwI12MgiIZAdAUny7MgY13IRbuOKZ069kZzOiU7Kunw8404iMcqX5xt+x8y0EqW/rkjVWrWolWWq9mNZKn5TkmZzrnL2YYzGs3Lt3RCLgkpAkrxgRF6Eu2DEWeml5LT2WOejcAOJsfDkLE5bJmNjWYWyLzzf/RGlv21Ip5mrcHKPJCBau8NiIQTUCUiSq9Mw3nkRbuONbdaeSU5nJfLi9/wV7vT9PeDaruXM7tqVrpmmoYyZtZlTARCblG4sM0Ig1wSUJP/xxx/566+/ZDJiBgsWLOCjjz5iyJAhEmcjjrOSx7/++itWVla5/j+gIBq+IuFORZuUQHJcJJFxySSIUBfE403nfVaE+4MPPqB8+fIyGTGDb7/9ljfffJNPP/1U4mzEcVbyuESJEiLcWv6nfLXCHeVP7P2TnLwfi788sK0lNLI6NwQU4W7atCkxMTEyGTEDb29vSpcuzY4dOyTORhxnJY/HjRsnwq3lP798Fu444Ao7Rvaiu1KUVr0aNUxN+aHjSrZf8yGMMHxu7GHdwOYMXHdTRk7TEixZ/SIBuR/2IhNjXCL3uI0xqpr7JDmtmYv60nwV7v+3dx7gUVTr/+f/u16vDYMgLV6VJipwuSgKgiAIAgrSDYYLSg+9QwIKhCZBigKCdEEIShBEQicJUoSA1ISeSoAQ0nsvn/+zm7rJJrPRXZhMXp5nnsycfXPmvJ/vvHyzu2fOpCdF4rNnEAM+6sEnthOZO9+euYPbYfXeAtae9CeSZMK897Bj5H95fcCP/HJJVk4rKI7sKxOQIldmpIUIMW4tqGhaDlLTypwsaNzJJEZcYOsn1fmw3xyc9voRrVslzWUU1h0X5xg3pNw5g9fy7tRo8oWsnKasl0QUIiBFXgiIRg/FuDUqrJG0pKaNQCnUZEHjzl3y9AVGz9/PAd2SaEaMW9/mbId1ZTscXb0obmXUQuOWQyGgJyBFXj4uBDHu8qGzLkupaWWtLWzcLthbf8DcNSc5rVsSTYxbWRGJKBUBKfJS4SqzwWLcZVa6Ug9caloZmQWNO474sKOseL82bUd8y7Jjd40ad9SNw+ydWJfnm37Bd7/7GHmCmHISElF+CUiRlw/txbjLh866LKWmlbW2oHGnkZYQyJVNg/jk4x582G0gE+z6MbRzY55+qTXt+wxixIQJ2PXrRte3q9LK4TCHb8UgT+RWFk0i8glIkeez0PKeGLeW1TXMTWrakIexIwsaN5CZAmG/87PTMHo3ro11kSVPn6JSjQa0+Wws352M5k6ssSFKmxAonoAUefFstPSKGLeW1Cw5F6npkvnoXrWsceed/yq/r7RnWIMGNDDY2tFt0GJ+uQeJGXnBsiMETCYgRW4yqjIdKMZdpuUr1eClppVxPSTjziQjLZWUxEQSDbYkklPSSM9SHqhECAFjBKTIjVHRXpsYt/Y0LS4jqeniyOS3W9C4k0mKuYKrQzdmfL+HfVeNfw6eHOzNla3j6TZ+K3u8daupyT8hYDoBKXLTWZXlSDHusqxe6cYuNa3My4LGnUBC+CnWda1G76lr2eAZaXQ0affOcWN1H2q8OoXFR65z12iUNAoB4wSkyI1z0VqrGLfWFC0+H6np4tnkvmIB447kntcfeGzdwIbvZzHkjWd5u8tghjquYevWrUW3VQv4bnQnnntpAl8fukZQ7sjkpxAwgYAUuQmQNBAixq0BEU1MQWpaGZT5jTv9DLtn2tKuyAzyClQw2vYP/u+JmlTtsgLnc3eJUR6zRAiBPAJS5HkoNL0jxq1peQ2Sk5o2wGH0wPzGHeLKxnEf8rpRkzZm3pV4tloXvvw9BN+4LGSemlGdpLEYAlLkxYDRWLMYt8YELSEdqekS4OS8ZH7jTo0gxO8K544f5rDrKqa2fI42fadgv3ofx48fN7Kd4pTnVW7HppEst4QpKyYRBgSkyA1waPZAjFuz0hZJTGq6CJIiDeY37rxTpJGWFMyV39aw94Q3V+7Lmmh5aGTHbASkyM2GUtUdiXGrWh6zDk5qWhmnBY0byEiFkIv8fvBXDvzhxa3CE8vj7nHXy4Ofd+zij4AkosTblRWTCAMCUuQGODR7IMatWWmLJCY1XQRJkQYLGncmmUmhRO8cTqdWjWkz8hu2XS10/ttHcVtiS51aNemxzpfzwfJZeSFCcqhAQIpcAZBGXhbj1oiQJqQhNa0MyYLGnUhCuCebelnT6NMvmbH7BmmZhQaUmUHIhV/ZOLgK1Ub+xD7vsEIBcigESiYgRV4yH628KsatFSWV85CaVmZkQeOOICZkJ7PqV8HW/id+8koyOpq0u39ybVUvarw6lSVHbsgCLEYpSWNxBKTIiyOjrXYxbm3pWVI2UtMl0cl+zYLGHUp0sDP21pWxc3TF1aeYwYR6Eexsh3VlOxxdvSgurJjfluZyTkCKvHxcAGLc5UNnXZZS08paW9C4Y4kLdePbllWxGf096/4Ip+h77lTi/Tw4PqsT1WqNZ6GsnKasmEQYEJAiN8Ch2QMxbs1KWyQxqekiSIo0WNC4ITU2BM8F/6Ftx34Mmu/CyZs3uWmwncX9p7mMa1oJ64+WseXsHVk5rYhE0lASASnykuho5zUxbu1oqZSJ1LQSIUs/jzs9ngyflUxq15ha/3qSp595hmcMtqd56sl/Uen5mthuus3FkExZOU1ZM4koQECKvAAMDe+KcWtY3EKpSU0XAmLk0KLvuMnKgOT7+F8+xEb73nR5qfCSp/V5veUElp/yxOtBKglpRkYoTUKgBAJS5CXA0dBLYtwaElMhFalpBUBY+h133vkTuH/lKId/WMKSJQW3rWzbfYk7urVa8mJlRwiYTkCK3HRWZTlSjLssq1e6sUtNK/Oy7Dtu5fNLhBD4WwSkyP8WvjLzy2LcZUaqvz1QqWllhOYz7qxMSAzj3m1/bt+PIDo5k8yMJGLu+RHoW3hSWqHjWz7cvB1BdFKavPNW1kwiChCQIi8AQ8O7YtwaFrdQalLThYAYOTSfcafEwPGZ9Hm/Aa2HLGDtpUQSIs6wqU8dmr1YkYoVS9gqv0DF95z44XQgUUYGKU1CoDgCUuTFkdFWuxi3tvQsKRup6ZLoZL9mRuOOBg97ujZ/mab9ZrPyfPbKaY6vVqHOY4UnpRU6/n9PU6HiMBYcvEqg8pglQgjkEZAiz0Oh6R0xbk3La5Cc1LQBDqMH5jPujBS4c5zd29axdf9pLj1IJCX+OsfXrGKdwYS0gpPTcveXs2TJAU77hxFtdJjSKASME5AiN85Fa61i3FpTtPh8pKaLZ5P7ivmMO7dH+SkEHiIBKfKHCPsRnkqM+xHCf8inlppWBm4m486ZiBbsx22/W9y6VdrNl1u3QohISEFu5VYWTSLyCUiR57PQ8p4Yt5bVNcxNatqQh7EjMxl3KSaiGZ2kVp2KFYey4MAV/IyNUtqEQDEEpMiLAaOxZjFujQlaQjpS0yXAyXnJTMadQXKUP/tH1+StFwpNPKugcFz9darYLuOXvZcJjIg38iAS5SQkovwSkCIvH9qLcZcPnXVZSk0ra20m44aMlHiCjq/Gee1iFi/O3r7+ajZffNKAejWa8GbHwUzIac99ffFiByaN/5z3Ww/m671+BESmKo9YIoRAAQJS5AVgaHhXjFvD4hZKTWq6EBAjh2Yz7qJ9J5Mc7c2RcS3o9uE0pm+6QECRoBCCTm3g2w+a8saYPey/GoFYdxFI0lACASnyEuBo6CUxbg2JqZCK1LQCIMuuVR5KdLAz9taVsXN0xdWnmMGEehG8fRTW7y1g1XE/wooJk2YhYIyAFLkxKtprE+PWnqbFZSQ1XRyZ/HYLvuMuhXE722FddQRz9nrL5LR8bWTPBAJS5CZA0kCIGLcGRDQxBalpZVAWNO5Y4kPdWd62Ki27TMNx5zUijIwn+sYR9k16heff/IIVv/vwwEiMNAmB4ghIkRdHRlvtYtza0rOkbKSmS6KT/ZoFjTuNtDg/vBZ1pvU77/Fmp36MnDqVqYW20QN70qN5VVpOPcjBmzEkK49ZIoRAHgEp8jwUmt4R49a0vAbJSU0b4DB6YEHjBtIS4eo2Fs34H60bvUzNIreGPYVV9ddo1Xcky05EERRrdIzSKASKJSBFXiwaTb0gxq0pOUtMRmq6RDz6Fy1r3Hnnv4LH8kkMqlePegZbKz7qvxCXu5CYkRcsO2WVQEYq6fFhBAZHE5tcmke0ppGaEEloQCChcemkluJa0EyRpyWQEBmMr6+vkc0fX98HRCakZq8sqOMc94DAAF17EMHhsSSkF7poMpJJjg3lrn8AdyOTSU7LLBRQtg7LvnFnX+MPfH3xN6pxQd0DCQiMIC49k4yUGCIf3MHXNwD/gPtEJmdgIKXuccppsUTcC+JucDgRRS6EsqWzbrSaqWkLon9Ixp1BekoiCTExxBhsccQnJJOaCVkWTFK6fkgEwq4S8utkXu25gk2epXlEqz9XDzoxvtarjHcJ4Wopbi3QTJH7H+SgUy+srKyMbDWxshqG08Gr+Ouk1HF2GcartXTtb9HLfgv7QwppHPUnnpvG0uHFenRYeAbPwMRCAWXrsOwbd/Y1PszKippGNS6oeyNqvToLl5AYwi6tw2lYG6ysXubFerYsPBOBgZQZCRC0mZldm9Ohlz0zi1wIZUtn3Wg1U9MWRP+QjDsng+RoUu9d5OK9VKJV+mV2anwEF9faMKpvOz51+I41pwyn1N07vZnNS0dhs/YiEfFqvOs8jvtX9vLj+O50XeTGaf+H9by1OO5f2M6WAf/FZtlFTgYm5aw7n0xyzFX2fdmLwd3a0a6dbutLd5u1uEXE5zwNLolwb1d2jmlJw+mHOXLD9DFrpsh9XHF17MQTz1bhg+k7WL/LAw+P3O0YHh7XCAjPXlkw+bYnFxa9R/VK/6JChaeo3G4Mdi63DP+biPTk5NqhtLCqRovZpzjpn2D4ehk7KvvGnUR8eADXPDw4lqvrlvnM//xtI5qf4sQffoSkpBNyaCaTutahQoXHeKxiHWo7HMDDp0B9pCdA4DqmtmtIi05jmbrnfhlTtuhwNVPTRVMzW4uFjVv3+Z0fpzZ9x3J7e+wnjmbSiAF8OucgR30iSSSRyMAzHF07l7VHbxOogpXTUqKD8bC3pvnLFahYuxu9vzyiv0Ut95NIH9fZONo1x9reg+DoFLMJ8Vc6Cr9+hCO7vmPefj9ik3NHGIn/ybXMfq8yVoOccfUK/Stdl/53Em9xaddS7Bp3Ycmf4QTkvMGLv+/FmR+H0LNDD+wmOjD766+ZNXEcg9q+h83ifRwN1F0HkBbmxa0do3mrtRObj/kRbuIINFPkOcb9VGVr+jsHU5JsCf4nOTW7GdWsalO//su80PQj3h2xkbNR6D+90qMT4zbxCnqEYSZofn/PVMZ2asRzz73MG81e5fEmo1i49xpBuR+giHE/QgEf3aktatwZabGEXl7AlC4d6fT2B3Tr3olurRvzZIv5rD3pTyTxBJ/fzvq+r9B0/G/sv/boV07LM+7mdajxQks+7j6N1f4JxKdnf5ivJuM2PpZ4Qm+684vjEAauPsn5hzTjL/X2IfYvnUSzhnPZGxJLpO6aTo3A7+gPzP2wHi3HbOO3q6HEA7H+x3Gf15z6TUazdP81bus+uEgJIuLyd/Sr/jFzf/Tkgi7QhH/l17hbUM2qBT2HfEqXTh14u9lAxruFEp2cM0FAjNuEq+cRh5hs3C2o27AjYxw/o+Gzjfh45k5238opEDHuRyziozm9BY07g6QoP/aOrEnr7uNx2HaJUN0qaS6jsO64OMe4ISnwFGcXdaL6u3NVsXJannHbjaC7bU9m9e1Eh4WXCYrLnmxl3CwzSEuOJfKOL/5+uZNM7nD3foz+oSl539/nTBi64+uLn8EElcITT0rqL4ss0kiIuMfpjeMYa/tfqg3byqmL1/ANjiQyIY2M1ATiQgMICI0jITWDtIRIIh8EEXA/luSMTPKmKeknOYUSGBCaM/GppPOWPA8h7I81rJrcneq9N3E2IiH7YTFhf3B81WTerd6bRWcjCEzKuciTAok4u4je1d9l8qrj/KH/TjuC2JBdzH71eYbN3s3um6bNUCvvxj107RrmTRtK79eaU2PEr9wITcqevCTG/Wj+Ry3NWUth3A3bDWap569Mf+0F6rWfyjQX7+wJiWLcpSGumVgLGncYMfe380WtKgyZsYtfb6STacS4sx5c5u6WoapZOS3fuGcxY9Eifp0xlGp1ZrD9fox+OVbjxh1FoOcmFratxEtVK1Gpkm5rS3vb9ZzQvZnMvVz0E4bG0bZSJarqY3Jja/HSKwUnnpTUXwYpBHFgZjd61n+CJx7/B//3r2d41sqKSr2dcDroT9jVg7hMqE3tCS4cvBqG/0EnnIa8wyu2P3ImIkH/0bR+SPpJThN4rfaEnIlPJZ23QB65+RT46bdvDnOGv4P1ZDfuRidnTzb028feOcOpaj2ZLXejeZD7F0zWA6LvbmGydVWGz9nLPv2zXLNIjg7i8ISaDJi7no1nogr0XvyuGPcx9uxZw8qBLbD69yc4eeZMXhLjLv6iUcsrpTLuyXzvfZ8L335E2/+0psukzRzQTUgU41aLmg91HBY0bt2Sp9uxt36HL1f8zgndkmhGjFvfplvytLIdjq5eFLek+cOikm/cjsx2OYy36xKGvtWIZvMPctw/mqLGHcH1A98yf3gP3h66hF2uB3F3d2f3d3NwHD2UdjP24x2TTDK38NzgwJQPu9BxkjO79x3BfcdcJvfsTOs3+mG/4zLXItNIysjub930QUxb687+Q+76/n6cP5oxA7rTYd1FwhJiCfe9wL7Fn/N5l9eo8ukSXPYcxP1SAAHhiYR6ueJsV5nKdtnfcSde3sa2qV157pVBrLgUyV39xMDsyWSb+jWk+YiduHrf5LxJeRhTIoLzWyYxzbYNbZdfJzQ+TR8Ud34Lm0f7YQRvAAATCElEQVR3p7K1Pc7B0eR/256/qp7ttM1sOR+nj89l//64BTgdCjR2oiJtYtwnORHwJyd+GEuninV43eEAR3WTl8S4i1wrqmsolXFPZa1fAuFBm3H8oDnvtBvDcN2ERDFu1cn6MAZkQeOOJu7BIb5u1oje9pvYfCHcqHHH+x3jxOzmVGswhaXuN7n3MLIu4Ry55tHczpHZrt5E3zzIwamtqdp8rH5SiLtLoclpsWf5bd4I+n1gy4Bfg4hMyv6INzn4KAe/n0L7JhP56Xo0DyI8+Ml+IDbNP8Ph9xhiUjIh/gJ7nUYytucAnC5ArH6SejzBXu6c3r+LY0GQkvOJ8b2j37J0XEdqDPyFq5GJ+qeoFf0jIjuxwsZNlDdnnb+ke+MmDNh6nUsPUkE/mWwBgxq8xfDtt/Dy+8O0PIxOpL+J+9Kh2LVuR9d1gYTn3Esa6bmBtUM7GTHuBBLCT7GuazV6T13LBk/9N+KkxT3g0tfNaN3/C+x/uowp6/Fozbj/+eQzNOgyioGj7bHXTejUbdNnYr/cjTM5E/myJ6dlf8c9dO1JPCOjuHfWmZWd6/Hcm92Yvu0812/JrPISylwdL5XSuNcFZpCQHsSxebb0fq8Fbw12Yv/NBJJ9ZVa5OgR9eKOwoHGn6G8Dcp/Vng96DuFzh+W4rF/Mmgkdea5xf+zmfsdGFxfWL7ZnQqfKNBy4hZ2XsycvPbz0i57J0Lh9IMafMLd5dKjfhJ7zdrFo6WTDWeX397Bh7P/4oFFXhq90YcvPLri46LblLLYfSOeqrfjySCi3bh/BecogbFoOZfaZBGJTsyD5KoeXjGKyzf+YezbXuLMndYX7n8PNxYVf9H25sHH+COw+6UC1rus4FZ6A7uYek41bPwnwZ4NJgPG3D7N/6Siavj6c9d5RBAeamEdMUWZwHtfZ/bBtaGjc8Red2TK2pxHjjiEu9AjftKpK3+lbcL6YPdEmPSGcwHVdadd7KmM3eGLKjS1aM+5/PP4kLzfvSsdufejTJ2f73wD6TPsFtxvZ9VHUuCEl9DJXtvSlWeWnaDl4Dev37sNNbgczdrGqp63Uxo3+e+2ocyv46n9v0KjB+/RZ6U3QldVMlNvB1KPrQxiJBY0byEiEu9tx6v8+bzz3DE8VWfL0MR5/shIvNW7BhN9CuWF4y/RDSL/oKYoYN0kkRp5je/+6NPlkGr3692Ly4AK3g+mNuwuNn6xE1ZfqUrtOXerWzd8aNW3BJH1u2ebW55UWtP/qGOe8b+F3ei3fjB5BfxsntueuHpeRQKzfAVyXDKKVdV3q5/RX64WqVH25yV80bki67cmf33bhpVYzWXn0Ol6/f8/3k3pRt/92zkUmkmRyHkWZwSX2z/uc/k0MjRv//eyfN4KaNSewOSiakLzvuEOIDtrMhJo1GTFvP/v1q4qgX3XNZ1VH2to4MGHTnwU+Wjd2zuw2rRm36beDFXzHrWMRQdyDX1nYpBavNOiH3Zyv2LRC7uMu/spRwSt/0bjhCh5LhtOn1n+p+v5MDhxbyrA2ch+3ChR9aEOwrHHrpihlppIUfwKXaTa0L2LcL/Dae2NZ7h1LWFImGbn/sT+09IueqKhxZ5GVHEnqgQl0adGZWrVr8Z+PChv3YHro8vCK5l5ENNHR+VtMTCyJqbrcso37w388xj+fehYrq0pUevZpWvafxbKTSfmrx4UcYMvU7nRr3Y2JrtEEPcjuK8BtBcvG9/jLxp0V70fo8bl0rtkRhw27WPnNBOYP7MqEA6lEJmeRpTduU/IoygzucXrdGCb3KGTcEac5sWYKbar1YKFn/r3dJAYQ7rmQHtXaMGXNCU7n/MGWEhPM79NepPkwR2btuZU/+93YKXPaxLh1H5XrYGSRlRRO0t7xdG5Wl+Yff8znw8W4S7h0Hv1Lf9m4M0i7toud0zrydOXqDP5qDh81EuN+9II+vBFY2LhzE4kl3P8KF93ccDPYTuJ5wYd7SajCtHWjLWrcQGYKRJ3k+6HtafXvJ3j69QLGnXIT92WjGdChE62WX8qbmJWbed5Pn60s/WIS7fvMxdnNjcM5HM5e8eduwS9z9QbaiU7Nu2LvAdlrvPhwYsUYPmvUrKhx929MdVtnLkQk5j1Zrch33LpBZCSRcO88m/vXY9iUwfToPIIRPeewIwoSdfeHmZpHXkIFd1K4tutLZg5qyWuOpwnJ/rIe0u5y/dAyJjStQ+MZOZOmgGifoxxwfIM6PRex5UQgMfq5bMkkRlzA2bY6jfvr5heYNk1RjDvXuAtepy1o1/o16r3zjqycVvAyVdv+XzZuINEf7z3zGNT4Cep+/CFNatSQldPUpq8Fx/OQjNuCGZi5a6PGrX/vF4PvnplM/bA+VV8uYNy674+9XNn29Wh69rJl0qTJODg45GxOzJ6/n4uxycSHXODIliVMHDOcEQ4OTM2LccBp5Wb2+4F+8bN4Xzw3TmVy9xY0t3Vg/GRdX1OYPtiGTzv1NDDuKO+fcP6yM/XrfciAsROZtNENt+vhRWaV5yLKSAgnaEMXbLq+iXXTgdhMdiVI5+n6ABPzyO2s0M97HkUnz0Ey0Xf/wH31QDq+24chg8bouYwZNQrbvv2YtOsi18Nyl4CKIvbBXpzefJ4uY9ezXm4HK0Q4/9DYd9zZr+r+AovBd+s4hnV5nSeqVOElq2o0kyVP8+Gpae/vGLeutm4e5MCkt6ha70WqPPEEDWTJUzWpa9GxWNC400lPiSDgD1dOe/kTEGF0OrJFk/srnaclRnFlqx3T1+5gx/lCT26IOofHD/MZP3I6dluvEJWYfdsTxPPghhs7HGz4vK8NNja520gG2W3lRFQiD4K9OLlxHtP6f0wbGxt65cZ89C49uttg4+TF9dg0/T3f8T4euK0eX6Cf8cyfv4jVW39k6EJ3bsYlZ98bHu/DDbfVONjY0FfX3/zsMcfcPs+JtYMYtPYE528XmE2me8zqla0snD4SG4flLDyU8+VyHijlPAr0lvdbup34qzv4ec4Q6rf6BvfQOPLjYkiMOsFWu0GMzM154ETDPHQdpAcT5bOeETWbMGWZO8cKoTc4WYEDecdd4B13Lhf/3aye2JHaFSvwuFU1mopx55JR18+/Zdy6v9F0E2cd6VD/WZ59vAL/FuNWl74WHI0FjTue+LBjrOpYDRv7DWz6s8DC+BZMSK1d69cc7tKLd3qtMViUJfPmb+yeMdjIzGu1ZlLMuKLP47lpAd1rjeRH/yjum7bwWV5nWbE+3PeYS8fak1l14Cqm3cWtoScJBXrgvmwgDd98h4kKEzWT7pzj/PLevN24N9N/PsfFIqUVykWXOUz/oA6vNn6bbsvPc+5O7rJ1ecjL1E7Zf8iIEdwmaB7q5sScgb3p1K/ABNa8rpJIjDrP9mFv0+mNOrw7cA5ObvmrJeSFlbEdzfwxbkHuFjTuMGKCf2Lai1UY5riHPbdUMPPMgiCVutYb9+AhvD9pt8FDS6LObGS93Udl37izwvA7voYF7Wsxbtd9rpTi0Zw6domBp/D8tjPWw7bx26UQkyam6X5PM0WemUZacjzR0TEk6CczFn9FZWWmk54cR0x0HIkp6eQso1/gFzL1j9FNjI0iKjpG/wCa9MyyXX+aNG4TNM9MSyIxPo7YuCR0Sz8YqphFVlY6KfExxEZHEROfSJLBw7oLXBJlaFczNW1B5hY07lQSI6+w47MatG8xlMlrPB/5qmgW5KjYdUqYJ7uXjqZf6ya06tCBDzp0oEOHDrRt1p2evR359rgPQSnp+oVVFDtTZUAaSYEnuPCNDU0GbWX7xftkr4dmymDv4XN0BbOb1qfnymucvWv61ypS5KbwLfsxmjTusi+LRTKQmlbGakHjhoyUeG7/vpIFn3Wm36efMHDaNKYZ2750ZNp37pzNWRlKedhlMUI3+cuNA+uccHIquG3ix18ucDtvklhZzC1nzImhxN84zMrtZ7l0NzpvlrtyRlGE+p7k4LKVHLwaT2jufDXlX9TOO24Tci3PIWLc5Ud9MW5lrS1o3CmkJQXhtfc3VgxpSus6FahQ5D7unLbHKlKhzhSWH72FiXOSlDOTiHJBQIq8XMiMGHf50FmXpdS0stYWNO4IYh/sxqn5G7SqXZvaJW4NqF17Isvcb5g8KUk5NYkoDwSkyMuDyohxlw+Z9VlKTSuLbUHjziQrM5XE6CiiIyOJLHGLIjIygaS0jJx7ipUHLhFCQEdAirx8XAfyjrt86Cw1bZrOFjRu0wYgUULg7xAQ4/479MrO74pxlx2t/u5IpaaVCVrEuJOCznF21zdMnz49b1v4gysHrps+z1h56BIhBOQdd3m5BsS4y4vSUtOmKG12404O9ubkxkkMb/+CwWS0Kk06023OTvZ5h5KsgXsNTYErMZYnIH+dW56xGs4gxq0GFR7OGKSmlTmb2bjTCXQZx8iPXuGpKtaGE9L+XZ3qDd+lxsjd3AxLMrJohPJgJUIIFCYgRV6YiDaPxbi1qauxrKSmjVExbDOjcevWuAxi//SOdO7eh05fexAREZG//bmNbdP6YPWiDQvPRHC7FPfqGg5ZjoRAPgEp8nwWWt4T49ayuoa5SU0b8jB2ZEbj1q125ckG25Z8bmvPHI+Cz6rUrWl5mbPOU+n2/GuM3RXC1ZxnMBsblLQJAVMJSJGbSqpsx4lxl239SjN6qWllWmY07hTAg5Vdm2PXbzYrzxc+uQ9ero7YVbbGzjkYr7K/Fn7hBOX4ERCQIn8E0B/BKcW4HwH0R3RKqWll8BYxbpvWfRi6aCc7dxbcVrJ0Wh86PFOZDuPXs3Rjgdd+3cNOj+sERCSU4bW6lWFLhPkJSJGbn6kaexTjVqMqlhmT1LQyV4sYd9PiljYtrv2fz1LhPzP4/rgf4cpjlgghkEdAijwPhaZ3xLg1La9BclLTBjiMHqjDuCs8TYXHBjBnn7f+kZdGRyqNQsAIASlyI1A02CTGrUFRi0lJaroYMAWazWjcmUAkQRc9OX3oEIdKtblx6JA3fmFxyGTzAurIriIBKXJFRJoIEOPWhIwmJSE1rYzJjMatfDKJEALmJiBFbm6i6uxPjFudulhiVFLTylTFuJUZSYSKCUiRq1gcMw5NjNuMMFXeldS0skBi3MqMJELFBKTIVSyOGYcmxm1GmCrvSmpaWSAxbmVGEqFiAlLkKhbHjEMT4zYjTJV3JTWtLJAYtzIjiVAxASlyFYtjxqGJcZsRpsq7kppWFkiMW5mRRKiYgBS5isUx49DEuM0IU+VdSU0rCyTGrcxIIlRMQIpcxeKYcWhi3GaEqfKupKaVBRLjVmYkESomIEWuYnHMODQxbjPCVHlXUtPKAolxKzOSCBUTkCJXsThmHJoYtxlhqrwrqWllgcS4lRlJhIoJSJGrWBwzDk2M24wwVd6V1LSyQGLcyowkQsUEpMhVLI4ZhybGbUaYKu9KalpZIDFuZUYSoWICUuQqFseMQxPjNiNMlXclNa0skBi3MiOJUDEBKXIVi2PGoYlxmxGmyruSmlYWSIxbmZFEqJiAFLmKxTHj0MS4zQhT5V1JTSsLJMatzEgiVExAilzF4phxaGLcZoSp8q6kppUFEuNWZiQRKiYgRa5iccw4NDFuM8JUeVdS08oCiXErM5IIFROQIlexOGYcmhi3GWGqvCupaWWBxLiVGUmEiglIkatYHDMOTYzbjDBV3pXUtLJAYtzKjCRCxQSkyFUsjhmHJsZtRpgq70pqWlkgMW5lRhKhYgJS5CoWx4xDE+M2I0yVdyU1rSyQGLcyI4lQMQEpchWLY8ahiXGbEabKu5KaVhZIjFuZkUSomIAUuYrFMePQxLjNCFPlXUlNKwskxq3MSCJUTECKXMXimHFoYtxmhKnyrqSmlQUS41ZmJBEqJiBFrmJxzDg0MW4zwlR5V1LTygKJcSszkggVE5AiV7E4ZhyaGLcZYaq8K6lpZYHEuJUZSYSKCeiKvH79+syaNUs2DTOYOHEiFStWxNbWVnTWsM66Om7Tpg1du3ZV8f86j35oYtyPXgMZwd8g8PPPP9O9e3fZhIFcAxq6BubPn/83/lfQ/q+KcWtfY8lQCAgBISAENERAjFtDYkoqQkAICAEhoH0CYtza11gyFAJCQAgIAQ0REOPWkJiSihAQAkJACGifgBi39jWWDIWAEBACQkBDBMS4NSSmpCIEhIAQEALaJyDGrX2NJUMhIASEgBDQEAExbg2JKakIASEgBISA9gmIcWtfY8lQCAgBISAENERAjFtDYkoqQkAICAEhoH0CYtza11gyFAJCQAgIAQ0REOPWkJiSihAQAkJACGifgBi39jWWDIWAEBACQkBDBMS4NSSmpCIEhIAQEALaJyDGrX2NJUMhIASEgBDQEAExbg2JKakIASEgBISA9gmIcWtfY8lQCAgBISAENERAjFtDYkoqQkAICAEhoH0CYtza11gyFAJCQAgIAQ0REOPWkJiSihAQAkJACGifgBi39jWWDIWAEBACQkBDBMS4NSSmpCIEhIAQEALaJ/D/ASC44BMSka5bAAAAAElFTkSuQmCC)"
      ]
    },
    {
      "cell_type": "markdown",
      "metadata": {
        "id": "rgXISSZAEtKY"
      },
      "source": [
        "- True Positive (TP): Jika user diprediksi (Positif) membeli ([Revenue] = 1]), dan memang benar (True) membeli.\n",
        "- True Negative (TN): Jika user diprediksi tidak (Negatif) membeli tetapi sebenarnya membeli (True).\n",
        "- False Positive (FP): Jika user diprediksi Positif membeli (Positif), tetapi ternyata tidak membeli (False).\n",
        "- False Negatif (FN): Jika user diprediksi tidak membeli (Negatif), dan aktualnya user tersebut memang tidak membeli (False)."
      ]
    },
    {
      "cell_type": "markdown",
      "metadata": {
        "id": "OjGTrL8nEycx"
      },
      "source": [
        "Untuk menampilkan confusion matrix cukup menggunakan fungsi `confusion_matrix()` dari Scikit-Learn"
      ]
    },
    {
      "cell_type": "code",
      "metadata": {
        "colab": {
          "base_uri": "https://localhost:8080/"
        },
        "id": "b26cZacURSl9",
        "outputId": "52ffe203-1936-45f8-c921-91a3e62d47ad"
      },
      "source": [
        "from sklearn.metrics import confusion_matrix, classification_report\n",
        "\n",
        "# evaluating the model\n",
        "print('Training Accuracy :', model.score(X_train, y_train))\n",
        "print('Testing Accuracy :', model.score(X_test, y_test))\n",
        "\n",
        "# confusion matrix\n",
        "print('\\nConfusion matrix:')\n",
        "cm = confusion_matrix(y_test, y_pred)\n",
        "print(cm)"
      ],
      "execution_count": 11,
      "outputs": [
        {
          "output_type": "stream",
          "name": "stdout",
          "text": [
            "Training Accuracy : 1.0\n",
            "Testing Accuracy : 0.8584752635847527\n",
            "\n",
            "Confusion matrix:\n",
            "[[1883  161]\n",
            " [ 188  234]]\n"
          ]
        }
      ]
    },
    {
      "cell_type": "markdown",
      "metadata": {
        "id": "Wg66tJElE3sl"
      },
      "source": [
        "Berdasarkan confusion matrix, dapat mengukur metrik — metrik berikut :\n",
        "- Accuracy = (TP + TN ) / (TP+FP+FN+TN)\n",
        "- Precision = (TP) / (TP+FP)\n",
        "- Recall = (TP) / (TP + FN)\n",
        "- F1 Score = 2 * (Recall*Precission) / (Recall + Precission)\n",
        "\n",
        "Tidak perlu menghitung nilai ini secara manual. Cukup gunakan fungsi `classification_report()` untuk memunculkan hasil perhitungan metrik-metrik tersebut."
      ]
    },
    {
      "cell_type": "code",
      "metadata": {
        "colab": {
          "base_uri": "https://localhost:8080/"
        },
        "id": "1MsZqoEURuK2",
        "outputId": "13bd094a-712a-44e1-f677-3bffe0b66d06"
      },
      "source": [
        "# classification report\n",
        "print('\\nClassification report:')\n",
        "cr = classification_report(y_test, y_pred)\n",
        "print(cr)"
      ],
      "execution_count": 12,
      "outputs": [
        {
          "output_type": "stream",
          "name": "stdout",
          "text": [
            "\n",
            "Classification report:\n",
            "              precision    recall  f1-score   support\n",
            "\n",
            "       False       0.91      0.92      0.92      2044\n",
            "        True       0.59      0.55      0.57       422\n",
            "\n",
            "    accuracy                           0.86      2466\n",
            "   macro avg       0.75      0.74      0.74      2466\n",
            "weighted avg       0.86      0.86      0.86      2466\n",
            "\n"
          ]
        }
      ]
    },
    {
      "cell_type": "markdown",
      "metadata": {
        "id": "tzprTnbLFNoT"
      },
      "source": [
        "## **Pakai Metrik yang Mana?**"
      ]
    },
    {
      "cell_type": "markdown",
      "metadata": {
        "id": "PX6jkZN3FRiZ"
      },
      "source": [
        "- Jika dataset memiliki jumlah data False Negatif dan False Positif yang seimbang (Symmetric), maka bisa gunakan Accuracy, tetapi jika tidak seimbang, maka sebaiknya menggunakan F1-Score.\n",
        "- Dalam suatu problem, jika lebih memilih False Positif lebih baik terjadi daripada False Negatif, misalnya: Dalam kasus Fraud/Scam, kecenderungan model mendeteksi transaksi sebagai fraud walaupun kenyataannya bukan, dianggap lebih baik, daripada transaksi tersebut tidak terdeteksi sebagai fraud tetapi ternyata fraud. Untuk problem ini sebaiknya menggunakan Recall.\n",
        "- Sebaliknya, jika lebih menginginkan terjadinya True Negatif dan sangat tidak menginginkan terjadinya False Positif, sebaiknya menggunakan Precision. Contohnya adalah pada kasus klasifikasi email SPAM atau tidak. Banyak orang lebih memilih jika email yang sebenarnya SPAM namun diprediksi tidak SPAM (sehingga tetap ada pada kotak masuk email kita), daripada email yang sebenarnya bukan SPAM tapi diprediksi SPAM (sehingga tidak ada pada kotak masuk email)."
      ]
    }
  ]
}
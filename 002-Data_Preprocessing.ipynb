{
  "nbformat": 4,
  "nbformat_minor": 0,
  "metadata": {
    "colab": {
      "name": "002-Data_Preprocessing.ipynb",
      "provenance": [],
      "collapsed_sections": [],
      "authorship_tag": "ABX9TyP91bxdOHZqGpDXEMlEA4pG",
      "include_colab_link": true
    },
    "kernelspec": {
      "name": "python3",
      "display_name": "Python 3"
    },
    "language_info": {
      "name": "python"
    }
  },
  "cells": [
    {
      "cell_type": "markdown",
      "metadata": {
        "id": "view-in-github",
        "colab_type": "text"
      },
      "source": [
        "<a href=\"https://colab.research.google.com/github/dikoharyadhanto/Machine-Learning-Documentation/blob/main/002-Data_Preprocessing.ipynb\" target=\"_parent\"><img src=\"https://colab.research.google.com/assets/colab-badge.svg\" alt=\"Open In Colab\"/></a>"
      ]
    },
    {
      "cell_type": "markdown",
      "metadata": {
        "id": "JSQHHnnjcwxp"
      },
      "source": [
        "# **Eksplorasi Data: Memahami Data dengan Statistik**"
      ]
    },
    {
      "cell_type": "markdown",
      "metadata": {
        "id": "Jn5mFb58BDxj"
      },
      "source": [
        "- Memasukkan file csv dengan menggunakan library pandas.\n",
        "- Mengecek berapa jumlah baris dan kolom dari dataset dengan fungsi `.shape`\n",
        "- Menampilkan dataset hanya 5 baris teratas dengan menggunakan fungsi `.head()`\n",
        "- Mengecek apakah ada data yang kosong atau tidak dan menampilkan daftar nama kolom serta tipe data yang digunakan. Fungsi yang digunakan adalah `.info()`\n",
        "- Menampilkan hasil perhitungan statistik deskriptif secara singkat dalam bentuk tabel dengan memanggil fungsi `.describe()`"
      ]
    },
    {
      "cell_type": "code",
      "metadata": {
        "colab": {
          "base_uri": "https://localhost:8080/"
        },
        "id": "gLYICvNRTyL1",
        "outputId": "8538e55e-53ad-4133-92ec-3d5d110982e7"
      },
      "source": [
        "## EXPLORING DATA\n",
        "\n",
        "import pandas as pd\n",
        "dataset = pd.read_csv('https://storage.googleapis.com/dqlab-dataset/pythonTutorial/online_raw.csv')\n",
        "print('Shape dataset:', dataset.shape)\n",
        "print('\\nLima data teratas:\\n', dataset.head())\n",
        "print('\\nInformasi dataset:')\n",
        "print(dataset.info())\n",
        "print('\\nStatistik deskriptif:\\n', dataset.describe())"
      ],
      "execution_count": 1,
      "outputs": [
        {
          "output_type": "stream",
          "name": "stdout",
          "text": [
            "Shape dataset: (12330, 18)\n",
            "\n",
            "Lima data teratas:\n",
            "    Administrative  Administrative_Duration  ...  Weekend  Revenue\n",
            "0             0.0                      0.0  ...    False    False\n",
            "1             0.0                      0.0  ...    False    False\n",
            "2             0.0                     -1.0  ...    False    False\n",
            "3             0.0                      0.0  ...    False    False\n",
            "4             0.0                      0.0  ...     True    False\n",
            "\n",
            "[5 rows x 18 columns]\n",
            "\n",
            "Informasi dataset:\n",
            "<class 'pandas.core.frame.DataFrame'>\n",
            "RangeIndex: 12330 entries, 0 to 12329\n",
            "Data columns (total 18 columns):\n",
            " #   Column                   Non-Null Count  Dtype  \n",
            "---  ------                   --------------  -----  \n",
            " 0   Administrative           12316 non-null  float64\n",
            " 1   Administrative_Duration  12316 non-null  float64\n",
            " 2   Informational            12316 non-null  float64\n",
            " 3   Informational_Duration   12316 non-null  float64\n",
            " 4   ProductRelated           12316 non-null  float64\n",
            " 5   ProductRelated_Duration  12316 non-null  float64\n",
            " 6   BounceRates              12316 non-null  float64\n",
            " 7   ExitRates                12316 non-null  float64\n",
            " 8   PageValues               12330 non-null  float64\n",
            " 9   SpecialDay               12330 non-null  float64\n",
            " 10  Month                    12330 non-null  object \n",
            " 11  OperatingSystems         12330 non-null  int64  \n",
            " 12  Browser                  12330 non-null  int64  \n",
            " 13  Region                   12330 non-null  int64  \n",
            " 14  TrafficType              12330 non-null  int64  \n",
            " 15  VisitorType              12330 non-null  object \n",
            " 16  Weekend                  12330 non-null  bool   \n",
            " 17  Revenue                  12330 non-null  bool   \n",
            "dtypes: bool(2), float64(10), int64(4), object(2)\n",
            "memory usage: 1.5+ MB\n",
            "None\n",
            "\n",
            "Statistik deskriptif:\n",
            "        Administrative  Administrative_Duration  ...        Region   TrafficType\n",
            "count    12316.000000             12316.000000  ...  12330.000000  12330.000000\n",
            "mean         2.317798                80.906176  ...      3.147364      4.069586\n",
            "std          3.322754               176.860432  ...      2.401591      4.025169\n",
            "min          0.000000                -1.000000  ...      1.000000      1.000000\n",
            "25%          0.000000                 0.000000  ...      1.000000      2.000000\n",
            "50%          1.000000                 8.000000  ...      3.000000      2.000000\n",
            "75%          4.000000                93.500000  ...      4.000000      4.000000\n",
            "max         27.000000              3398.750000  ...      9.000000     20.000000\n",
            "\n",
            "[8 rows x 14 columns]\n"
          ]
        }
      ]
    },
    {
      "cell_type": "markdown",
      "metadata": {
        "id": "fNG5yL8eBQ2s"
      },
      "source": [
        "kita juga perlu sedikit menggali tentang hubungan atau korelasi dari setiap feature, karena beberapa algorithm seperti linear regression dan logistic regression akan menghasilkan model dengan performansi yang buruk jika kita menggunakan feature/variabel saling dependensi atau berkorelasi kuat (multicollinearity).\n",
        "\n",
        "Jadi, jika kita sudah tahu bahwa data kita berkorelasi kuat, kita bisa menggunakan algorithm lain yang tidak sensitif terhadap hubungan korelasi dari feature/variabel seperti decision tree."
      ]
    },
    {
      "cell_type": "code",
      "metadata": {
        "colab": {
          "base_uri": "https://localhost:8080/"
        },
        "id": "qwbo_cx3Wk3H",
        "outputId": "aabf4576-97ba-443c-d6c3-0bb373ee6990"
      },
      "source": [
        "## MEMBUAT KORELASI DATA\n",
        "\n",
        "dataset_corr = dataset.corr()\n",
        "print('Korelasi dataset:\\n', dataset.corr())\n",
        "print('Distribusi Label (Revenue):\\n', dataset['Revenue'].value_counts())\n",
        "# Tugas praktek\n",
        "print('\\nKorelasi BounceRates-ExitRates:', dataset_corr.loc['BounceRates', 'ExitRates'])\n",
        "print('\\nKorelasi Revenue-PageValues:', dataset_corr.loc['Revenue', 'PageValues'])\n",
        "print('\\nKorelasi TrafficType-Weekend:', dataset_corr.loc['TrafficType', 'Weekend'])"
      ],
      "execution_count": 2,
      "outputs": [
        {
          "output_type": "stream",
          "name": "stdout",
          "text": [
            "Korelasi dataset:\n",
            "                          Administrative  ...   Revenue\n",
            "Administrative                 1.000000  ...  0.138631\n",
            "Administrative_Duration        0.601466  ...  0.093395\n",
            "Informational                  0.376782  ...  0.095085\n",
            "Informational_Duration         0.255757  ...  0.070250\n",
            "ProductRelated                 0.430832  ...  0.158280\n",
            "ProductRelated_Duration        0.373647  ...  0.152130\n",
            "BounceRates                   -0.223474  ... -0.150621\n",
            "ExitRates                     -0.316192  ... -0.206886\n",
            "PageValues                     0.098771  ...  0.492569\n",
            "SpecialDay                    -0.095054  ... -0.082305\n",
            "OperatingSystems              -0.006459  ... -0.014668\n",
            "Browser                       -0.025243  ...  0.023984\n",
            "Region                        -0.005680  ... -0.011595\n",
            "TrafficType                   -0.033748  ... -0.005113\n",
            "Weekend                        0.026404  ...  0.029295\n",
            "Revenue                        0.138631  ...  1.000000\n",
            "\n",
            "[16 rows x 16 columns]\n",
            "Distribusi Label (Revenue):\n",
            " False    10422\n",
            "True      1908\n",
            "Name: Revenue, dtype: int64\n",
            "\n",
            "Korelasi BounceRates-ExitRates: 0.9134364214595944\n",
            "\n",
            "Korelasi Revenue-PageValues: 0.49256929525114623\n",
            "\n",
            "Korelasi TrafficType-Weekend: -0.0022212292430307825\n"
          ]
        }
      ]
    },
    {
      "cell_type": "markdown",
      "metadata": {
        "id": "09_ny_2Vc2i8"
      },
      "source": [
        "# **Eksplorasi Data: Memahami Data dengan Visual**"
      ]
    },
    {
      "cell_type": "code",
      "metadata": {
        "colab": {
          "base_uri": "https://localhost:8080/",
          "height": 447
        },
        "id": "mZr6IlE-Yp-S",
        "outputId": "798ca3c6-cbd0-4865-931d-0d36ef388941"
      },
      "source": [
        "## EXPLORE DATA PAKE GRAFIK\n",
        "\n",
        "import matplotlib.pyplot as plt\n",
        "import seaborn as sns\n",
        "# checking the Distribution of customers on Revenue\n",
        "plt.rcParams['figure.figsize'] = (12,5)\n",
        "plt.subplot(1, 2, 1)\n",
        "sns.countplot(dataset['Revenue'], palette = 'pastel')\n",
        "plt.title('Buy or Not', fontsize = 20)\n",
        "plt.xlabel('Revenue or not', fontsize = 14)\n",
        "plt.ylabel('count', fontsize = 14)\n",
        "# checking the Distribution of customers on Weekend\n",
        "plt.subplot(1, 2, 2)\n",
        "sns.countplot(dataset['Weekend'], palette = 'inferno')\n",
        "plt.title('Purchase on Weekends', fontsize = 20)\n",
        "plt.xlabel('Weekend or not', fontsize = 14)\n",
        "plt.ylabel('count', fontsize = 14)\n",
        "plt.show()"
      ],
      "execution_count": 3,
      "outputs": [
        {
          "output_type": "stream",
          "name": "stderr",
          "text": [
            "/usr/local/lib/python3.7/dist-packages/seaborn/_decorators.py:43: FutureWarning: Pass the following variable as a keyword arg: x. From version 0.12, the only valid positional argument will be `data`, and passing other arguments without an explicit keyword will result in an error or misinterpretation.\n",
            "  FutureWarning\n",
            "/usr/local/lib/python3.7/dist-packages/seaborn/_decorators.py:43: FutureWarning: Pass the following variable as a keyword arg: x. From version 0.12, the only valid positional argument will be `data`, and passing other arguments without an explicit keyword will result in an error or misinterpretation.\n",
            "  FutureWarning\n"
          ]
        },
        {
          "output_type": "display_data",
          "data": {
            "image/png": "[encoded data removed]",
            "text/plain": [
              "<Figure size 864x360 with 2 Axes>"
            ]
          },
          "metadata": {
            "needs_background": "light"
          }
        }
      ]
    },
    {
      "cell_type": "code",
      "metadata": {
        "colab": {
          "base_uri": "https://localhost:8080/",
          "height": 359
        },
        "id": "ix1D6-f_cVEw",
        "outputId": "778eaaf2-0464-4730-e0e7-1e05fb0609ca"
      },
      "source": [
        "import matplotlib.pyplot as plt\n",
        "# visualizing the distribution of customers around the Region\n",
        "plt.hist(dataset['Region'], color = 'lightblue')\n",
        "plt.title('Distribution of Customers', fontsize = 20)\n",
        "plt.xlabel('Region Codes', fontsize = 14)\n",
        "plt.ylabel('Count Users', fontsize = 14)\n",
        "plt.show()"
      ],
      "execution_count": 4,
      "outputs": [
        {
          "output_type": "display_data",
          "data": {
            "image/png": "[encoded data removed]",
            "text/plain": [
              "<Figure size 864x360 with 1 Axes>"
            ]
          },
          "metadata": {
            "needs_background": "light"
          }
        }
      ]
    },
    {
      "cell_type": "markdown",
      "metadata": {
        "id": "SfUlxdSxodM5"
      },
      "source": [
        "# **Data Pre-processing: Handling Missing Value**"
      ]
    },
    {
      "cell_type": "markdown",
      "metadata": {
        "id": "MmAM1oFjojgQ"
      },
      "source": [
        "## **Menghitung Jumlah Missing Value**"
      ]
    },
    {
      "cell_type": "markdown",
      "metadata": {
        "id": "ksU9LGKNBYls"
      },
      "source": [
        "Untuk menghitung berapa jumlah missing value dalam dataset, dapat menggunakan fungsi `.isna()` ditambahkan dengan `.sum()`. Untuk mengetahui total keseluruhannya, ditambahkan lagi `.sum()`."
      ]
    },
    {
      "cell_type": "code",
      "metadata": {
        "colab": {
          "base_uri": "https://localhost:8080/"
        },
        "id": "Y_japLGJoVCs",
        "outputId": "1392940d-2f06-46d4-c66f-5e5bf851107b"
      },
      "source": [
        "#checking missing value for each feature  \n",
        "print('Checking missing value for each feature:')\n",
        "print(dataset.isna().sum())\n",
        "#Counting total missing value\n",
        "print('\\nCounting total missing value:')\n",
        "print(dataset.isna().sum().sum())"
      ],
      "execution_count": 5,
      "outputs": [
        {
          "output_type": "stream",
          "name": "stdout",
          "text": [
            "Checking missing value for each feature:\n",
            "Administrative             14\n",
            "Administrative_Duration    14\n",
            "Informational              14\n",
            "Informational_Duration     14\n",
            "ProductRelated             14\n",
            "ProductRelated_Duration    14\n",
            "BounceRates                14\n",
            "ExitRates                  14\n",
            "PageValues                  0\n",
            "SpecialDay                  0\n",
            "Month                       0\n",
            "OperatingSystems            0\n",
            "Browser                     0\n",
            "Region                      0\n",
            "TrafficType                 0\n",
            "VisitorType                 0\n",
            "Weekend                     0\n",
            "Revenue                     0\n",
            "dtype: int64\n",
            "\n",
            "Counting total missing value:\n",
            "112\n"
          ]
        }
      ]
    },
    {
      "cell_type": "markdown",
      "metadata": {
        "id": "c6ikCqS_jPwA"
      },
      "source": [
        "## **Menghapus Missing Value**"
      ]
    },
    {
      "cell_type": "markdown",
      "metadata": {
        "id": "cYXa7rU_Bgd5"
      },
      "source": [
        "Terdapat beberapa metode yang dapat kita lakukan untuk menangani missing value. Salah satunya dengan menghapus missing value. Namun, kita tidak bisa begitu saja melakukannya. Kita juga perlu menganalisis penyebaran missing value, dan berapa persen jumlah missing value dalam data kita,\n",
        "\n",
        "Metode penghapusan missing values dapat diterapkan jika tidak banyak missing value dalam data, sehingga walaupun data point ini dihapus, kita masih memiliki sejumlah data yang cukup untuk melatih model Machine Learning.\n",
        "\n",
        "Tetapi jika kita memiliki banyak missing value dan tersebar di setiap variabel, maka metode menghapus missing value tidak dapat digunakan. Kita akan kehilangan sejumlah data yang tentunya mempengaruhi performansi model.\n",
        "\n",
        "Kita bisa menggunakan fungsi `.dropna( )` dari pandas library untuk menghapus missing values."
      ]
    },
    {
      "cell_type": "code",
      "metadata": {
        "colab": {
          "base_uri": "https://localhost:8080/"
        },
        "id": "29m2Ss9YjWPD",
        "outputId": "611cbef3-fc21-4d9a-9e2e-ffc3c656872b"
      },
      "source": [
        "#Drop rows with missing value   \n",
        "dataset_clean = dataset.dropna() \n",
        "print('Ukuran dataset_clean:', dataset_clean.shape) "
      ],
      "execution_count": 6,
      "outputs": [
        {
          "output_type": "stream",
          "name": "stdout",
          "text": [
            "Ukuran dataset_clean: (12316, 18)\n"
          ]
        }
      ]
    },
    {
      "cell_type": "markdown",
      "metadata": {
        "id": "S63NWjml8j5Q"
      },
      "source": [
        "## **Mengisi Missing Value dengan Nilai Statistik**"
      ]
    },
    {
      "cell_type": "markdown",
      "metadata": {
        "id": "RH6fDLFmBxaY"
      },
      "source": [
        "Selain dengan menghapus missing value, Kita bisa menggunakan metode impute missing value, yaitu mengisi record yang hilang ini dengan suatu nilai. \n",
        "\n",
        "Terdapat berbagai teknik dalam metode imputing, mulai dari yang paling sederhana yaitu mengisi missing value dengan nilai mean, median, modus, atau nilai konstan, sampai teknik paling advance yaitu dengan menggunakan nilai yang diestimasi oleh suatu predictive model.\n",
        "\n",
        "Imputing missing dapat dilakukan dengan memasukkan fungsi `.fillna()` dan `.mean()` dari Pandas"
      ]
    },
    {
      "cell_type": "code",
      "metadata": {
        "colab": {
          "base_uri": "https://localhost:8080/"
        },
        "id": "-J58hzhx8rML",
        "outputId": "49395f93-b67c-4942-ef94-8eab75c309e3"
      },
      "source": [
        "print(\"Before imputation:\")\n",
        "# Checking missing value for each feature  \n",
        "print(dataset.isnull().sum())\n",
        "# Counting total missing value  \n",
        "print(dataset.isnull().sum().sum())\n",
        "\n",
        "print(\"\\nAfter imputation:\")\n",
        "# Fill missing value with mean of feature value  \n",
        "dataset.fillna(dataset.mean(), inplace = True)\n",
        "# Checking missing value for each feature  \n",
        "print(dataset.isnull().sum())\n",
        "# Counting total missing value  \n",
        "print(dataset.isnull().sum().sum())"
      ],
      "execution_count": 7,
      "outputs": [
        {
          "output_type": "stream",
          "name": "stdout",
          "text": [
            "Before imputation:\n",
            "Administrative             14\n",
            "Administrative_Duration    14\n",
            "Informational              14\n",
            "Informational_Duration     14\n",
            "ProductRelated             14\n",
            "ProductRelated_Duration    14\n",
            "BounceRates                14\n",
            "ExitRates                  14\n",
            "PageValues                  0\n",
            "SpecialDay                  0\n",
            "Month                       0\n",
            "OperatingSystems            0\n",
            "Browser                     0\n",
            "Region                      0\n",
            "TrafficType                 0\n",
            "VisitorType                 0\n",
            "Weekend                     0\n",
            "Revenue                     0\n",
            "dtype: int64\n",
            "112\n",
            "\n",
            "After imputation:\n",
            "Administrative             0\n",
            "Administrative_Duration    0\n",
            "Informational              0\n",
            "Informational_Duration     0\n",
            "ProductRelated             0\n",
            "ProductRelated_Duration    0\n",
            "BounceRates                0\n",
            "ExitRates                  0\n",
            "PageValues                 0\n",
            "SpecialDay                 0\n",
            "Month                      0\n",
            "OperatingSystems           0\n",
            "Browser                    0\n",
            "Region                     0\n",
            "TrafficType                0\n",
            "VisitorType                0\n",
            "Weekend                    0\n",
            "Revenue                    0\n",
            "dtype: int64\n",
            "0\n"
          ]
        }
      ]
    },
    {
      "cell_type": "markdown",
      "metadata": {
        "id": "_qX4_Qkh8qOM"
      },
      "source": [
        "**Contoh lain dengan Median:**"
      ]
    },
    {
      "cell_type": "code",
      "metadata": {
        "colab": {
          "base_uri": "https://localhost:8080/"
        },
        "id": "nQ9W8K7p-naw",
        "outputId": "fde43073-229b-4a55-8565-5105b36c43ef"
      },
      "source": [
        "import pandas as pd\n",
        "dataset1 = pd.read_csv('https://storage.googleapis.com/dqlab-dataset/pythonTutorial/online_raw.csv')\n",
        "\n",
        "print(\"Before imputation:\")\n",
        "# Checking missing value for each feature  \n",
        "print(dataset1.isnull().sum())\n",
        "# Counting total missing value  \n",
        "print(dataset1.isnull().sum().sum())\n",
        "\n",
        "print(\"\\nAfter imputation:\")\n",
        "# Fill missing value with median of feature value  \n",
        "dataset1.fillna(dataset1.median(), inplace = True)\n",
        "# Checking missing value for each feature  \n",
        "print(dataset1.isnull().sum())\n",
        "# Counting total missing value  \n",
        "print(dataset1.isnull().sum().sum())"
      ],
      "execution_count": 8,
      "outputs": [
        {
          "output_type": "stream",
          "name": "stdout",
          "text": [
            "Before imputation:\n",
            "Administrative             14\n",
            "Administrative_Duration    14\n",
            "Informational              14\n",
            "Informational_Duration     14\n",
            "ProductRelated             14\n",
            "ProductRelated_Duration    14\n",
            "BounceRates                14\n",
            "ExitRates                  14\n",
            "PageValues                  0\n",
            "SpecialDay                  0\n",
            "Month                       0\n",
            "OperatingSystems            0\n",
            "Browser                     0\n",
            "Region                      0\n",
            "TrafficType                 0\n",
            "VisitorType                 0\n",
            "Weekend                     0\n",
            "Revenue                     0\n",
            "dtype: int64\n",
            "112\n",
            "\n",
            "After imputation:\n",
            "Administrative             0\n",
            "Administrative_Duration    0\n",
            "Informational              0\n",
            "Informational_Duration     0\n",
            "ProductRelated             0\n",
            "ProductRelated_Duration    0\n",
            "BounceRates                0\n",
            "ExitRates                  0\n",
            "PageValues                 0\n",
            "SpecialDay                 0\n",
            "Month                      0\n",
            "OperatingSystems           0\n",
            "Browser                    0\n",
            "Region                     0\n",
            "TrafficType                0\n",
            "VisitorType                0\n",
            "Weekend                    0\n",
            "Revenue                    0\n",
            "dtype: int64\n",
            "0\n"
          ]
        }
      ]
    },
    {
      "cell_type": "markdown",
      "metadata": {
        "id": "D2tmFELkAU34"
      },
      "source": [
        "# **Data Preprocessing: Scaling**"
      ]
    },
    {
      "cell_type": "markdown",
      "metadata": {
        "id": "ZF205ag3CBSU"
      },
      "source": [
        "Beberapa machine learning seperti K-NN dan gradient descent mengharuskan semua variabel memiliki rentang nilai yang sama, karena jika tidak sama, feature dengan rentang nilai terbesar otomatis akan menjadi feature yang paling mendominasi dalam proses training/komputasi, sehingga model yang dihasilkan pun akan sangat bias.\n",
        "\n",
        "Sebelum memulai training model, kita terlebih dahulu perlu melakukan data rescaling, sehingga semua feature berada dalam rentang nilai tersebut.\n",
        "Untuk melakukan data rescaling, dapat menggunakan fungsi `.MinMaxScaler()` dari Scikit-Learn library."
      ]
    },
    {
      "cell_type": "markdown",
      "metadata": {
        "id": "rfvl92SkCIWP"
      },
      "source": [
        "**Rumus rescaling:**"
      ]
    },
    {
      "cell_type": "markdown",
      "metadata": {
        "id": "Lnm526JxCJeb"
      },
      "source": [
        "![image.png](data:image/png;base64,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)"
      ]
    },
    {
      "cell_type": "markdown",
      "metadata": {
        "id": "Oiu8bZowAWfX"
      },
      "source": [
        "- Asumsi dalam proses scaling adalah semua data harus merupakan data numerik\n",
        "- Error akan terjadi jika proses scalling dijalankan pada data-data non-numerik\n",
        "- Kita perlu terlebih dahulu menyeleksi feature - feature dari dataset yang bertipe numerik."
      ]
    },
    {
      "cell_type": "markdown",
      "metadata": {
        "id": "lslckPDLQYwN"
      },
      "source": [
        "Langkah - langkah untuk proses scaling dengan dataset yang memiliki feature dengan tipe data yang berbeda:\n",
        "1. Import `MinMaxScaler` dari `sklearn.preprocessing`\n",
        "2. Deklarasikan fungsi `MinMaxScaler()` ke dalam variabel scaler\n",
        "3. List semua feature yang akan di-scaling (yang juga harus bertipe numerik) dan beri nama scaling_column yaitu : `['Administrative', 'Administrative_Duration', 'Informational', 'Informational_Duration', 'ProductRelated', 'ProductRelated_Duration', 'BounceRates', 'ExitRates', 'PageValues']`. Proses ini merupakan proses pemilihan mana saja yang akan dilakukan scaling.\n",
        "4. Ganti `dataset.columns` dengan `scaling_column`"
      ]
    },
    {
      "cell_type": "code",
      "metadata": {
        "colab": {
          "base_uri": "https://localhost:8080/"
        },
        "id": "HJO12AdkPPRO",
        "outputId": "a43b4f85-b082-47b2-82cd-e03a74648d38"
      },
      "source": [
        "from sklearn.preprocessing import MinMaxScaler  \n",
        "#Define MinMaxScaler as scaler  \n",
        "scaler = MinMaxScaler()  \n",
        "#list all the feature that need to be scaled  \n",
        "scaling_column = [\n",
        "                  'Administrative','Administrative_Duration','Informational',\n",
        "                  'Informational_Duration','ProductRelated','ProductRelated_Duration',\n",
        "                  'BounceRates','ExitRates','PageValues'\n",
        "                 ]\n",
        "#Apply fit_transfrom to scale selected feature  \n",
        "dataset[scaling_column] = scaler.fit_transform(dataset[scaling_column])\n",
        "#Cheking min and max value of the scaling_column\n",
        "print(dataset[scaling_column].describe().T[['min','max']])"
      ],
      "execution_count": 9,
      "outputs": [
        {
          "output_type": "stream",
          "name": "stdout",
          "text": [
            "                         min  max\n",
            "Administrative           0.0  1.0\n",
            "Administrative_Duration  0.0  1.0\n",
            "Informational            0.0  1.0\n",
            "Informational_Duration   0.0  1.0\n",
            "ProductRelated           0.0  1.0\n",
            "ProductRelated_Duration  0.0  1.0\n",
            "BounceRates              0.0  1.0\n",
            "ExitRates                0.0  1.0\n",
            "PageValues               0.0  1.0\n"
          ]
        }
      ]
    },
    {
      "cell_type": "markdown",
      "metadata": {
        "id": "-JjZOu0KQ7FA"
      },
      "source": [
        "## **Mengubah Data Kategorikal Menjadi Data Numerik**"
      ]
    },
    {
      "cell_type": "markdown",
      "metadata": {
        "id": "BEVlpbisChq1"
      },
      "source": [
        "Karena dalam proses scalling membutuhkan data-data numerik, data-data non-numerik seperti string dll dapat kita ubah dalam bentuk data numerik.\n",
        "kita dapat menggunakan `LabelEncoder` dari `sklearn.preprocessing` untuk mengubah menjadi data numerik."
      ]
    },
    {
      "cell_type": "code",
      "metadata": {
        "colab": {
          "base_uri": "https://localhost:8080/"
        },
        "id": "8COSd9JwT4GZ",
        "outputId": "e1be854d-c02f-4539-bc21-0eb9d737b3cf"
      },
      "source": [
        "import numpy as np\n",
        "from sklearn.preprocessing import LabelEncoder\n",
        "# Convert feature/column 'Month'\n",
        "LE = LabelEncoder()\n",
        "dataset['Month'] = LE.fit_transform(dataset['Month'])\n",
        "print(LE.classes_)\n",
        "print(np.sort(dataset['Month'].unique()))\n",
        "print('')\n",
        "\n",
        "# Convert feature/column 'VisitorType'\n",
        "LE = LabelEncoder()\n",
        "dataset['VisitorType'] = LE.fit_transform(dataset['VisitorType'])\n",
        "print(LE.classes_)\n",
        "print(np.sort(dataset['VisitorType'].unique()))"
      ],
      "execution_count": 10,
      "outputs": [
        {
          "output_type": "stream",
          "name": "stdout",
          "text": [
            "['Aug' 'Dec' 'Feb' 'Jul' 'June' 'Mar' 'May' 'Nov' 'Oct' 'Sep']\n",
            "[0 1 2 3 4 5 6 7 8 9]\n",
            "\n",
            "['New_Visitor' 'Other' 'Returning_Visitor']\n",
            "[0 1 2]\n"
          ]
        }
      ]
    }
  ]
}